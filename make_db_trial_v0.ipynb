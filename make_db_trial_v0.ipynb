{
 "cells": [
  {
   "cell_type": "code",
   "execution_count": 2,
   "metadata": {},
   "outputs": [],
   "source": [
    "import pandas as pd\n",
    "from smartsheet_dataframe import get_as_df\n",
    "import os"
   ]
  },
  {
   "cell_type": "code",
   "execution_count": 3,
   "metadata": {},
   "outputs": [],
   "source": [
    "# Storing Smartsheet information in variables\n",
    "shitz_token = \"wMvGniITjDFd7ClZPE44wtJGvZkM7Hg7mP7if\" #Bily's personal token to access G-A smartsheet data. Anyone can obtain their own token\n",
    "fhaid = 4523924143794052 # The ID number that references the FHA sheet\n",
    "mssid = 3005704744265604 # The ID number that references the MSS sheet\n",
    "\n",
    "# Creating the FHA and MSS dataframes\n",
    "fha_df = get_as_df(type_='sheet',\n",
    "                  token=shitz_token,\n",
    "                  id_=fhaid)\n",
    "\n",
    "mss_df = get_as_df(type_='sheet',\n",
    "                  token=shitz_token,\n",
    "                  id_=mssid)\n",
    "\n",
    "# data_df = mss_df.loc[(mss_df['UniqueID'].str.contains('WAR')) |\n",
    "#                     (mss_df['UniqueID'].str.contains('WRR')) |\n",
    "#                     (mss_df['UniqueID'].str.contains('BJT'))].copy()\n",
    "data_df = mss_df.copy()\n",
    "\n",
    "data_df['Tract'] = data_df['Tract'].astype(str).apply(lambda x: x.split('.')[0])\n",
    "data_df['CMP'] = data_df['CMP'].astype(str).apply(lambda x: x.split('.')[0])\n",
    "data_df['Stand'] = data_df['Stand'].astype(str).apply(lambda x: x.split('.')[0])\n",
    "data_df['TCS'] = data_df['Tract'] + \"_\" + data_df['CMP'] + \"_\" + data_df['Stand']\n",
    "\n",
    "data_df['Reporting Period'] = data_df['Reporting Period'].fillna(0)\n",
    "data_df.loc[data_df['Reporting Period'] == \"\", 'Reporting Period'] = 0\n",
    "data_df['Reporting Period'] = data_df['Reporting Period'].astype(str)\n",
    "s = data_df.loc[pd.to_numeric(data_df['Reporting Period'], errors='coerce').isnull() & data_df['Reporting Period'].str.contains(\"RP\"), 'Reporting Period'].apply(lambda x: x.strip()[-1])\n",
    "data_df['trial'] = data_df.index.map(s)\n",
    "data_df.loc[pd.to_numeric(data_df['Reporting Period'], errors='coerce').isnull() & data_df['Reporting Period'].str.contains(\"RP\"), 'Reporting Period'] = data_df.loc[pd.to_numeric(data_df['Reporting Period'], errors='coerce').isnull() & data_df['Reporting Period'].str.contains(\"RP\"), 'trial']\n",
    "data_df['Reporting Period'] = pd.to_numeric(data_df['Reporting Period'], downcast='integer')\n",
    "data_df['Future GT'] = pd.to_numeric(data_df['Future GT'], errors='coerce')\n"
   ]
  },
  {
   "cell_type": "markdown",
   "metadata": {},
   "source": [
    "## Creaet Client Table"
   ]
  },
  {
   "cell_type": "code",
   "execution_count": 4,
   "metadata": {},
   "outputs": [],
   "source": [
    "# Filter out the Client Provided data and make sure the fields are similar\n",
    "client_df = data_df[['UniqueID',\n",
    "                    'Tract',\n",
    "                    'CMP',\n",
    "                    'Stand',\n",
    "                    'Acres',\n",
    "                    'Age',\n",
    "                    'County',\n",
    "                    'State',\n",
    "                    'Species',\n",
    "                    'Origin',\n",
    "                    'Scheduled',\n",
    "                    'PreBA',\n",
    "                    'PreTPA',\n",
    "                    'PreGTA',\n",
    "                    'PlnBA',\n",
    "                    'PlnTPA',\n",
    "                    'PlnGTA',\n",
    "                    'Client GT',\n",
    "                    'Future GT',\n",
    "                    'Reporting Period']].copy()\n",
    "\n",
    "client_df['Age'] = pd.to_numeric(client_df['Age'], errors='coerce', downcast='integer').fillna(0).astype(int)\n",
    "client_df.loc[pd.to_numeric(client_df['Future GT'], errors='coerce').isnull(), 'Future GT'] = 0\n",
    "client_df['Tract'] = client_df['Tract'].astype(str)\n",
    "client_df['Stand'] = client_df['Stand'].astype(str)\n",
    "client_df['Tract'] = client_df['Tract'].apply(lambda x: x.split('.')[0])\n",
    "client_df['Client GT'] = pd.to_numeric(client_df['Client GT'], errors=\"coerce\")\n",
    "client_df['Client GT'] = client_df['Client GT'].fillna(0)\n",
    "\n",
    "cols = ['PreBA', 'PreTPA', 'PreGTA', 'PlnBA', 'PlnTPA', 'PlnGTA']\n",
    "\n",
    "for x in cols:\n",
    "    client_df[x] = pd.to_numeric(client_df[x], errors='coerce', downcast='integer').fillna(-99).astype(int)\n",
    "\n",
    "\n",
    "\n",
    "# Normalize some of the fields in the client intake table\n",
    "\n",
    "## Normalize Species\n",
    "species = [\"Slash Pine\", \"Loblolly Pine\", 'Mixed Natural Pine', 'Hardwood Mix', 'Pine Straw', \"Other\"]\n",
    "species_dict = {'Species': species}\n",
    "species_df = pd.DataFrame(species_dict)\n",
    "species_df['Species_UID'] = species_df.index\n",
    "species_df['Species'] = species_df['Species'].str.lower()\n",
    "\n",
    "def species_map(x):\n",
    "    x = x.lower()\n",
    "    if \"slash\" in x:\n",
    "        return 0\n",
    "    elif \"loblol\" in x:\n",
    "        return 1\n",
    "    elif \"mixed natural\" in x:\n",
    "        return 2\n",
    "    elif \"h\" in x:\n",
    "        return 3\n",
    "    elif \"straw\" in x:\n",
    "        return 4\n",
    "    elif \"pine\" in x:\n",
    "        return 1\n",
    "    else:\n",
    "        return 5\n",
    "    \n",
    "client_df['Species'] = client_df['Species'].apply(lambda x: species_map(x))\n",
    "\n",
    "\n",
    "## Normalize origin\n",
    "origins = ['Planted', 'Natural', 'Natural Mix', 'Other']\n",
    "origin_dict = {'Origin': origins}\n",
    "origin_df = pd.DataFrame(origin_dict)\n",
    "origin_df['OriginUID'] = origin_df.index\n",
    "origin_df['Origin'] = origin_df['Origin'].str.lower()\n",
    "\n",
    "def origin_map(x):\n",
    "    x = x.lower()\n",
    "    if \"plant\" in x:\n",
    "        return 0\n",
    "    elif \"natural mix\" in x:\n",
    "        return 2\n",
    "    elif \"nat\" in x:\n",
    "        return 1\n",
    "    else:\n",
    "        return 3\n",
    "client_df['Origin'] = client_df['Origin'].apply(lambda x: origin_map(x))\n",
    "\n",
    "\n",
    "## Normalize tract\n",
    "client_df['tract_l'] = client_df['Tract'].apply(lambda x: x.lower())\n",
    "tracts = client_df['tract_l'].unique().tolist()\n",
    "tract_dict = {'tract': tracts}\n",
    "tract_df = pd.DataFrame(tract_dict)\n",
    "tract_df['tract_uid'] = tract_df.index\n",
    "new_tract_dict = dict(zip(tract_df['tract'], tract_df['tract_uid']))\n",
    "client_df['Tract'] = client_df['tract_l'].map(new_tract_dict)\n",
    "\n",
    "## Normalize county\n",
    "client_df['County'] = client_df['County'].astype(str)\n",
    "client_df['county_l'] = client_df['County'].apply(lambda x: x.lower())\n",
    "countys = client_df['county_l'].unique().tolist()\n",
    "county_dict = {'county': countys}\n",
    "county_df = pd.DataFrame(county_dict)\n",
    "county_df['county_uid'] = county_df.index\n",
    "new_county_dict = dict(zip(county_df['county'], county_df['county_uid']))\n",
    "client_df['County'] = client_df['county_l'].map(new_county_dict)\n",
    "\n",
    "## Normalize state\n",
    "client_df['State'] = client_df['State'].astype(str)\n",
    "client_df['state_l'] = client_df['State'].apply(lambda x: x.lower())\n",
    "states = client_df['state_l'].unique().tolist()\n",
    "state_dict = {'state': states}\n",
    "state_df = pd.DataFrame(state_dict)\n",
    "state_df['state_uid'] = state_df.index\n",
    "new_state_dict = dict(zip(state_df['state'], state_df['state_uid']))\n",
    "client_df['State'] = client_df['state_l'].map(new_state_dict)\n",
    "\n",
    "# Drop the lowercase columns\n",
    "client_df.drop(columns=['tract_l', 'county_l', 'state_l'], inplace=True)\n"
   ]
  },
  {
   "cell_type": "markdown",
   "metadata": {},
   "source": [
    "## Create GA Intake Table"
   ]
  },
  {
   "cell_type": "code",
   "execution_count": 5,
   "metadata": {},
   "outputs": [],
   "source": [
    "ga_intake_df = data_df[['IntakeID',\n",
    "                       'FolderID',\n",
    "                       'UniqueID',\n",
    "                       'GA_ACRES',\n",
    "                       'GA GT', # this is going to be GA total isn't it? Or does it stay as GA estimate of current GT (total minus what client says is future)\n",
    "                       'Total GT', # This will be the conservative total between client and GA numbers\n",
    "                       'Notes'\n",
    "                       ]].copy()\n",
    "\n",
    "# Lowercase the ga_intake_df column names\n",
    "ga_intake_df.columns = [x.lower().replace(' ', '_') for x in ga_intake_df.columns]\n",
    "ga_intake_df.rename(columns={'uniqueid': 'ga_uid'},inplace=True)\n",
    "ga_intake_df = ga_intake_df[['ga_uid', 'intakeid', 'folderid', 'ga_acres', 'ga_gt', 'total_gt', 'notes']]\n"
   ]
  },
  {
   "cell_type": "markdown",
   "metadata": {},
   "source": [
    "## Create Status Table"
   ]
  },
  {
   "cell_type": "code",
   "execution_count": 6,
   "metadata": {},
   "outputs": [],
   "source": [
    "status_df = data_df[['UniqueID',\n",
    "                    'Guidance',\n",
    "                    'Expiration',\n",
    "                    'GuidanceProvider',\n",
    "                    'Status',\n",
    "                    'Completed Date'\n",
    "                    ]].copy()\n",
    "status_df.rename(columns={'UniqueID': 'status_uid'}, inplace=True)"
   ]
  },
  {
   "cell_type": "markdown",
   "metadata": {},
   "source": [
    "## Create TicketID -> UniqueID lookup table"
   ]
  },
  {
   "cell_type": "code",
   "execution_count": 7,
   "metadata": {},
   "outputs": [],
   "source": [
    "ticketid_lookup_df = data_df[['UniqueID', 'TicketID']].copy() # the uniqueid will the the unique id for this table\n"
   ]
  },
  {
   "cell_type": "code",
   "execution_count": 8,
   "metadata": {},
   "outputs": [],
   "source": [
    "ticketid_list = data_df['TicketID'].unique().tolist()\n",
    "ticketid_dict = {'ticketid': ticketid_list}\n",
    "ticketid_df = pd.DataFrame(ticketid_dict)\n",
    "ticketid_df['ticketid_uid'] = ticketid_df.index\n",
    "new_ticketid_dict = dict(zip(ticketid_df['ticketid'], ticketid_df['ticketid_uid']))\n",
    "ticketid_lookup_df['ticketid'] = ticketid_lookup_df['TicketID'].map(new_ticketid_dict)\n",
    "\n",
    "ticketid_lookup_df.rename(columns={'ticketid_uid': 'ticket_id',\n",
    "                                    'UniqueID': 'ticket_lookup_uid'}, inplace=True)\n",
    "ticketid_lookup_df.drop('TicketID', axis=1, inplace=True)"
   ]
  },
  {
   "cell_type": "code",
   "execution_count": 9,
   "metadata": {},
   "outputs": [
    {
     "data": {
      "text/html": [
       "<div>\n",
       "<style scoped>\n",
       "    .dataframe tbody tr th:only-of-type {\n",
       "        vertical-align: middle;\n",
       "    }\n",
       "\n",
       "    .dataframe tbody tr th {\n",
       "        vertical-align: top;\n",
       "    }\n",
       "\n",
       "    .dataframe thead th {\n",
       "        text-align: right;\n",
       "    }\n",
       "</style>\n",
       "<table border=\"1\" class=\"dataframe\">\n",
       "  <thead>\n",
       "    <tr style=\"text-align: right;\">\n",
       "      <th></th>\n",
       "      <th>ticket_lookup_uid</th>\n",
       "      <th>ticketid</th>\n",
       "    </tr>\n",
       "  </thead>\n",
       "  <tbody>\n",
       "    <tr>\n",
       "      <th>0</th>\n",
       "      <td>WAR241025HD09</td>\n",
       "      <td>0</td>\n",
       "    </tr>\n",
       "    <tr>\n",
       "      <th>1</th>\n",
       "      <td>WAR241025HD07</td>\n",
       "      <td>0</td>\n",
       "    </tr>\n",
       "    <tr>\n",
       "      <th>2</th>\n",
       "      <td>WAR241025HD06</td>\n",
       "      <td>0</td>\n",
       "    </tr>\n",
       "    <tr>\n",
       "      <th>3</th>\n",
       "      <td>WAR250620TH02</td>\n",
       "      <td>1</td>\n",
       "    </tr>\n",
       "    <tr>\n",
       "      <th>4</th>\n",
       "      <td>WAR250310BI03</td>\n",
       "      <td>2</td>\n",
       "    </tr>\n",
       "    <tr>\n",
       "      <th>...</th>\n",
       "      <td>...</td>\n",
       "      <td>...</td>\n",
       "    </tr>\n",
       "    <tr>\n",
       "      <th>840</th>\n",
       "      <td>WRR240109TT01</td>\n",
       "      <td>578</td>\n",
       "    </tr>\n",
       "    <tr>\n",
       "      <th>841</th>\n",
       "      <td>WRR240325BN01</td>\n",
       "      <td>579</td>\n",
       "    </tr>\n",
       "    <tr>\n",
       "      <th>842</th>\n",
       "      <td>WRR240318BN02</td>\n",
       "      <td>580</td>\n",
       "    </tr>\n",
       "    <tr>\n",
       "      <th>843</th>\n",
       "      <td>WRR240318BN01</td>\n",
       "      <td>581</td>\n",
       "    </tr>\n",
       "    <tr>\n",
       "      <th>844</th>\n",
       "      <td></td>\n",
       "      <td>582</td>\n",
       "    </tr>\n",
       "  </tbody>\n",
       "</table>\n",
       "<p>845 rows × 2 columns</p>\n",
       "</div>"
      ],
      "text/plain": [
       "    ticket_lookup_uid  ticketid\n",
       "0       WAR241025HD09         0\n",
       "1       WAR241025HD07         0\n",
       "2       WAR241025HD06         0\n",
       "3       WAR250620TH02         1\n",
       "4       WAR250310BI03         2\n",
       "..                ...       ...\n",
       "840     WRR240109TT01       578\n",
       "841     WRR240325BN01       579\n",
       "842     WRR240318BN02       580\n",
       "843     WRR240318BN01       581\n",
       "844                         582\n",
       "\n",
       "[845 rows x 2 columns]"
      ]
     },
     "execution_count": 9,
     "metadata": {},
     "output_type": "execute_result"
    }
   ],
   "source": [
    "ticketid_lookup_df"
   ]
  },
  {
   "cell_type": "markdown",
   "metadata": {},
   "source": [
    "## Create the TCS lookup\n"
   ]
  },
  {
   "cell_type": "code",
   "execution_count": 10,
   "metadata": {},
   "outputs": [],
   "source": [
    "tcs_df = data_df.groupby('TicketID').agg({'Tract': 'first',\n",
    "                                               'CMP': 'first',\n",
    "                                               'Stand': ', '.join}).reset_index()\n",
    "\n",
    "def split_stands(x):\n",
    "    bugger_splot = list(set(x.split(', ')))\n",
    "    bugger_splot.sort()\n",
    "    return \", \".join(bugger_splot)\n",
    "    \n",
    "tcs_df['stands'] = tcs_df['Stand'].apply(split_stands)\n",
    "tcs_df['comp'] = tcs_df['CMP'].apply(lambda x: x if x!=\"NP\" else \"\")\n",
    "tcs_df['TCS'] = tcs_df['Tract'] + \"_\" + tcs_df['comp'] + \"_\" + tcs_df['stands']\n",
    "tcs_df['TCS'] = tcs_df['TCS'].apply(lambda x: x.replace(\"__\", \"_\"))\n",
    "tcs_df['tcs_uid'] = tcs_df.index\n",
    "tcs_df = tcs_df[['tcs_uid', 'TicketID', 'TCS']].copy()"
   ]
  },
  {
   "cell_type": "markdown",
   "metadata": {},
   "source": [
    "TicketID table should have a link to this"
   ]
  },
  {
   "cell_type": "code",
   "execution_count": 11,
   "metadata": {},
   "outputs": [],
   "source": [
    "tcs_mapper = dict(zip(tcs_df['TicketID'], tcs_df['tcs_uid']))\n",
    "ticketid_df['tcs'] = ticketid_df['ticketid'].map(tcs_mapper)"
   ]
  },
  {
   "cell_type": "code",
   "execution_count": 12,
   "metadata": {},
   "outputs": [
    {
     "data": {
      "text/html": [
       "<div>\n",
       "<style scoped>\n",
       "    .dataframe tbody tr th:only-of-type {\n",
       "        vertical-align: middle;\n",
       "    }\n",
       "\n",
       "    .dataframe tbody tr th {\n",
       "        vertical-align: top;\n",
       "    }\n",
       "\n",
       "    .dataframe thead th {\n",
       "        text-align: right;\n",
       "    }\n",
       "</style>\n",
       "<table border=\"1\" class=\"dataframe\">\n",
       "  <thead>\n",
       "    <tr style=\"text-align: right;\">\n",
       "      <th></th>\n",
       "      <th>ticketid</th>\n",
       "      <th>ticketid_uid</th>\n",
       "      <th>tcs</th>\n",
       "    </tr>\n",
       "  </thead>\n",
       "  <tbody>\n",
       "  </tbody>\n",
       "</table>\n",
       "</div>"
      ],
      "text/plain": [
       "Empty DataFrame\n",
       "Columns: [ticketid, ticketid_uid, tcs]\n",
       "Index: []"
      ]
     },
     "execution_count": 12,
     "metadata": {},
     "output_type": "execute_result"
    }
   ],
   "source": [
    "ticketid_df[ticketid_df['tcs'].isna()]"
   ]
  },
  {
   "cell_type": "markdown",
   "metadata": {},
   "source": [
    "## Create a projects table"
   ]
  },
  {
   "cell_type": "code",
   "execution_count": 13,
   "metadata": {},
   "outputs": [
    {
     "data": {
      "text/plain": [
       "'WAR'"
      ]
     },
     "execution_count": 13,
     "metadata": {},
     "output_type": "execute_result"
    }
   ],
   "source": [
    "a = \"WAR250303XXXX\"\n",
    "a[:3]"
   ]
  },
  {
   "cell_type": "code",
   "execution_count": 14,
   "metadata": {},
   "outputs": [
    {
     "data": {
      "text/html": [
       "<div>\n",
       "<style scoped>\n",
       "    .dataframe tbody tr th:only-of-type {\n",
       "        vertical-align: middle;\n",
       "    }\n",
       "\n",
       "    .dataframe tbody tr th {\n",
       "        vertical-align: top;\n",
       "    }\n",
       "\n",
       "    .dataframe thead th {\n",
       "        text-align: right;\n",
       "    }\n",
       "</style>\n",
       "<table border=\"1\" class=\"dataframe\">\n",
       "  <thead>\n",
       "    <tr style=\"text-align: right;\">\n",
       "      <th></th>\n",
       "      <th>project</th>\n",
       "      <th>proj_uid</th>\n",
       "    </tr>\n",
       "  </thead>\n",
       "  <tbody>\n",
       "    <tr>\n",
       "      <th>0</th>\n",
       "      <td>WAR</td>\n",
       "      <td>0</td>\n",
       "    </tr>\n",
       "    <tr>\n",
       "      <th>1</th>\n",
       "      <td>BJT</td>\n",
       "      <td>1</td>\n",
       "    </tr>\n",
       "    <tr>\n",
       "      <th>2</th>\n",
       "      <td>WRR</td>\n",
       "      <td>2</td>\n",
       "    </tr>\n",
       "    <tr>\n",
       "      <th>3</th>\n",
       "      <td>DLT</td>\n",
       "      <td>3</td>\n",
       "    </tr>\n",
       "    <tr>\n",
       "      <th>4</th>\n",
       "      <td>MFV</td>\n",
       "      <td>4</td>\n",
       "    </tr>\n",
       "    <tr>\n",
       "      <th>5</th>\n",
       "      <td>MLB</td>\n",
       "      <td>5</td>\n",
       "    </tr>\n",
       "    <tr>\n",
       "      <th>6</th>\n",
       "      <td>MID</td>\n",
       "      <td>6</td>\n",
       "    </tr>\n",
       "    <tr>\n",
       "      <th>7</th>\n",
       "      <td>BKG</td>\n",
       "      <td>7</td>\n",
       "    </tr>\n",
       "    <tr>\n",
       "      <th>8</th>\n",
       "      <td></td>\n",
       "      <td>8</td>\n",
       "    </tr>\n",
       "  </tbody>\n",
       "</table>\n",
       "</div>"
      ],
      "text/plain": [
       "  project  proj_uid\n",
       "0     WAR         0\n",
       "1     BJT         1\n",
       "2     WRR         2\n",
       "3     DLT         3\n",
       "4     MFV         4\n",
       "5     MLB         5\n",
       "6     MID         6\n",
       "7     BKG         7\n",
       "8                 8"
      ]
     },
     "execution_count": 14,
     "metadata": {},
     "output_type": "execute_result"
    }
   ],
   "source": [
    "mss_df['project'] = mss_df['UniqueID'].str[:3]\n",
    "project_df = mss_df[['project']].drop_duplicates()\n",
    "project_df.reset_index(inplace=True)\n",
    "project_df['proj_uid'] = project_df.index\n",
    "project_df = project_df[['project', 'proj_uid']]\n",
    "project_df"
   ]
  },
  {
   "cell_type": "markdown",
   "metadata": {},
   "source": [
    "## Place the above tables into the Database\n",
    "- [X] client_df\n",
    "- [X] ga_intake_df\n",
    "- [X] origin_df\n",
    "- [X] county_df\n",
    "- [X] species_df\n",
    "- [X] state_df\n",
    "- [X] status_df\n",
    "- [X] tcs_df\n",
    "- [X] ticketid_df\n",
    "- [X] ticketid_lookup_df\n",
    "- [X] tract_df"
   ]
  },
  {
   "cell_type": "markdown",
   "metadata": {},
   "source": [
    "### Lowercase all of the column names"
   ]
  },
  {
   "cell_type": "code",
   "execution_count": 15,
   "metadata": {},
   "outputs": [],
   "source": [
    "# Client table\n",
    "## lowercase client_df field names\n",
    "client_df.columns = [x.lower() for x in client_df.columns]\n",
    "client_df.columns = [x.replace(' ', '_') for x in client_df.columns]\n",
    "client_df['client_uid'] = client_df['uniqueid']\n",
    "client_df.drop(columns=['uniqueid'],inplace=True)\n",
    "client_df = client_df[['client_uid', 'tract', 'cmp', 'stand', 'acres', 'age', 'county', 'state', 'species', 'origin', 'scheduled', 'preba', 'pretpa', 'pregta',\n",
    "                       'plnba', 'plntpa', 'plngta', 'client_gt', 'future_gt', 'reporting_period']]\n",
    "\n",
    "# ga_intake\n",
    "ga_intake_df.columns = [x.lower().replace(' ', '_') for x in ga_intake_df.columns]\n",
    "ga_intake_df = ga_intake_df[['ga_uid', 'intakeid', 'folderid', 'ga_acres', 'ga_gt', 'total_gt']]\n",
    "\n",
    "# origin_df\n",
    "origin_df.rename(columns={'OriginUID': 'origin_uid',\n",
    "                          'Origin': 'origin'}, inplace=True)\n",
    "\n",
    "# county_df\n",
    "county_df.columns = [x.lower() for x in county_df.columns]\n",
    "\n",
    "# species_df\n",
    "species_df.columns = [x.lower() for x in species_df.columns]\n",
    "\n",
    "# state_df\n",
    "state_df.columns = [x.lower() for x in state_df.columns]\n",
    "\n",
    "# status_df\n",
    "status_df.columns = [x.lower() for x in status_df.columns]\n",
    "\n",
    "# tcs_df\n",
    "tcs_df.columns = [x.lower() for x in tcs_df.columns]\n",
    "\n",
    "# ticketid_df\n",
    "ticketid_df.columns = [x.lower() for x in ticketid_df.columns]\n",
    "\n",
    "# ticketid_lookup_df\n",
    "ticketid_lookup_df.columns = [x.lower() for x in ticketid_lookup_df.columns]\n",
    "\n",
    "# tract_df\n",
    "tract_df.columns = [x.lower() for x in tract_df.columns]\n",
    "\n"
   ]
  },
  {
   "cell_type": "code",
   "execution_count": 16,
   "metadata": {},
   "outputs": [],
   "source": [
    "# define the db\n",
    "import sqlite3\n",
    "\n",
    "conn = sqlite3.connect(r'C:\\Users\\bbrown\\Documents\\python_scripts\\db-build-trial\\db_trial_v1\\ga_harvest_round2.db')\n",
    "c = conn.cursor()"
   ]
  },
  {
   "cell_type": "code",
   "execution_count": 17,
   "metadata": {},
   "outputs": [
    {
     "data": {
      "text/plain": [
       "9"
      ]
     },
     "execution_count": 17,
     "metadata": {},
     "output_type": "execute_result"
    }
   ],
   "source": [
    "### Update the DB\n",
    "\n",
    "client_df.to_sql('client_intake', conn, if_exists='replace',index=False, dtype={'client_uid': 'TEXT PRIMARY KEY'})\n",
    "ga_intake_df.to_sql('ga_intake', conn, if_exists='replace', index=False, dtype={'ga_uid': 'TEXT PRIMARY KEY'})\n",
    "origin_df.to_sql('origin', conn, if_exists='replace', index=False, dtype={'origin_uid': 'INTEGER PRIMARY KEY'})\n",
    "county_df.to_sql('county', conn, if_exists='replace', index=False, dtype={'county_uid': 'INTEGER PRIMARY KEY'})\n",
    "species_df.to_sql('species', conn, if_exists='replace', index=False, dtype={'species_uid': 'INTEGER PRIMARY KEY'})\n",
    "state_df.to_sql('state', conn, if_exists='replace', index=False, dtype={'state_uid': 'INTEGER PRIMARY KEY'})\n",
    "status_df.to_sql('status', conn, if_exists='replace', index=False, dtype={'status_uid': 'TEXT PRIMARY KEY'})\n",
    "tcs_df.to_sql('tcs', conn, if_exists='replace', index=False, dtype={'tcs_uid': 'INTEGER PRIMARY KEY'})\n",
    "ticketid_df.to_sql('ticketid', conn, if_exists='replace', index=False, dtype={'ticketid_uid': 'INTEGER PRIMARY KEY'})\n",
    "ticketid_lookup_df.to_sql('ticketid_lookup_activityid', conn, if_exists='replace', index=False, dtype={'ticketid_lookup_uid': 'TEXT PRIMARY KEY'})\n",
    "tract_df.to_sql('tract', conn, if_exists='replace', index=False, dtype={'tract_uid':'INTEGER PRIMARY KEY'})\n",
    "project_df.to_sql('project', conn, if_exists='replace', index=False, dtype={'proj_uid':'INTEGER PRIMARY KEY'})\n"
   ]
  },
  {
   "cell_type": "code",
   "execution_count": null,
   "metadata": {},
   "outputs": [],
   "source": []
  },
  {
   "cell_type": "code",
   "execution_count": null,
   "metadata": {},
   "outputs": [],
   "source": []
  },
  {
   "cell_type": "code",
   "execution_count": null,
   "metadata": {},
   "outputs": [],
   "source": []
  },
  {
   "cell_type": "code",
   "execution_count": null,
   "metadata": {},
   "outputs": [],
   "source": []
  },
  {
   "cell_type": "code",
   "execution_count": null,
   "metadata": {},
   "outputs": [],
   "source": []
  },
  {
   "cell_type": "markdown",
   "metadata": {},
   "source": [
    "# Mill Ticket sections"
   ]
  },
  {
   "cell_type": "code",
   "execution_count": 18,
   "metadata": {},
   "outputs": [],
   "source": [
    "projs = ['WAR', 'WRR', 'BJT', 'DLT', 'MLB', 'BKG', 'MID']"
   ]
  },
  {
   "cell_type": "code",
   "execution_count": 19,
   "metadata": {},
   "outputs": [
    {
     "name": "stdout",
     "output_type": "stream",
     "text": [
      "P:\\Mill Tickets\\ARCHIVE\\Retroactive_Ticket_imageing\\WAR\\WAR_RP2\n",
      "WAR_RP2_Compiled.xlsm\n"
     ]
    },
    {
     "name": "stderr",
     "output_type": "stream",
     "text": [
      "c:\\Users\\bbrown\\Anaconda3\\envs\\postgres_python\\Lib\\site-packages\\openpyxl\\worksheet\\header_footer.py:48: UserWarning: Cannot parse header or footer so it will be ignored\n",
      "  warn(\"\"\"Cannot parse header or footer so it will be ignored\"\"\")\n"
     ]
    },
    {
     "name": "stdout",
     "output_type": "stream",
     "text": [
      "P:\\Mill Tickets\\ARCHIVE\\Retroactive_Ticket_imageing\\WAR\\WAR_RP3\n",
      "WAR_RP3_Compiled.xlsm\n"
     ]
    },
    {
     "name": "stderr",
     "output_type": "stream",
     "text": [
      "c:\\Users\\bbrown\\Anaconda3\\envs\\postgres_python\\Lib\\site-packages\\openpyxl\\worksheet\\header_footer.py:48: UserWarning: Cannot parse header or footer so it will be ignored\n",
      "  warn(\"\"\"Cannot parse header or footer so it will be ignored\"\"\")\n"
     ]
    },
    {
     "name": "stdout",
     "output_type": "stream",
     "text": [
      "P:\\Mill Tickets\\ARCHIVE\\Retroactive_Ticket_imageing\\WAR\\WAR_RP4\n",
      "WAR_RP4_Compiled.xlsm\n"
     ]
    },
    {
     "name": "stderr",
     "output_type": "stream",
     "text": [
      "c:\\Users\\bbrown\\Anaconda3\\envs\\postgres_python\\Lib\\site-packages\\openpyxl\\worksheet\\header_footer.py:48: UserWarning: Cannot parse header or footer so it will be ignored\n",
      "  warn(\"\"\"Cannot parse header or footer so it will be ignored\"\"\")\n"
     ]
    },
    {
     "name": "stdout",
     "output_type": "stream",
     "text": [
      "P:\\Mill Tickets\\ARCHIVE\\Retroactive_Ticket_imageing\\WAR\\WAR_RP5\n",
      "WAR_RP5_Compiled.xlsm\n"
     ]
    },
    {
     "name": "stderr",
     "output_type": "stream",
     "text": [
      "c:\\Users\\bbrown\\Anaconda3\\envs\\postgres_python\\Lib\\site-packages\\openpyxl\\worksheet\\header_footer.py:48: UserWarning: Cannot parse header or footer so it will be ignored\n",
      "  warn(\"\"\"Cannot parse header or footer so it will be ignored\"\"\")\n"
     ]
    },
    {
     "name": "stdout",
     "output_type": "stream",
     "text": [
      "P:\\Mill Tickets\\ARCHIVE\\WAR_RP6\n",
      "WAR_RP6_Compiled.xlsm\n",
      "P:\\Mill Tickets\\ARCHIVE\\WAR_RP7\n",
      "WAR_RP7_Compiled.xlsm\n",
      "P:\\Mill Tickets\\ARCHIVE\\WAR_RP8\n",
      "WAR_RP8_Compiled.xlsm\n",
      "P:\\Mill Tickets\\WAR_RP10\n",
      "WAR_RP10_Compiled.xlsm\n",
      "P:\\Mill Tickets\\WAR_RP9\n",
      "WAR_RP9_Compiled.xlsm\n",
      "P:\\Mill Tickets\\ARCHIVE\\Retroactive_Ticket_imageing\\WRR\\RP1\n",
      "WRR_RP1_Compiled.xlsm\n",
      "P:\\Mill Tickets\\ARCHIVE\\WRR_RP5\n",
      "WRR_RP5_Compiled.xlsm\n",
      "P:\\Mill Tickets\\ARCHIVE\\WRR_RP6\n",
      "WRR_RP6_Compiled.xlsm\n",
      "P:\\Mill Tickets\\ARCHIVE\\WRR_RP7\n",
      "WRR_RP7_Compiled.xlsm\n",
      "P:\\Mill Tickets\\WRR_RP8\n",
      "WRR_RP8_Compiled.xlsm\n",
      "P:\\Mill Tickets\\ARCHIVE\\BJT_RP5\n",
      "BJT_RP5_Compiled.xlsm\n",
      "P:\\Mill Tickets\\ARCHIVE\\BJT_RP6\n",
      "BJT_RP6_Compiled.xlsm\n",
      "P:\\Mill Tickets\\ARCHIVE\\BJT_RP7\n",
      "BJT_RP7_Compiled.xlsm\n"
     ]
    },
    {
     "name": "stderr",
     "output_type": "stream",
     "text": [
      "C:\\Users\\bbrown\\AppData\\Local\\Temp\\ipykernel_21380\\2111848845.py:18: FutureWarning: The behavior of DataFrame concatenation with empty or all-NA entries is deprecated. In a future version, this will no longer exclude empty or all-NA columns when determining the result dtypes. To retain the old behavior, exclude the relevant entries before the concat operation.\n",
      "  big_df = pd.concat([big_df, df])\n"
     ]
    },
    {
     "name": "stdout",
     "output_type": "stream",
     "text": [
      "P:\\Mill Tickets\\ARCHIVE\\Retroactive_Ticket_imageing\\BJT\\BJT_RP1_FinalMillTix\\BJT_RP1_FinalMillTix\n",
      "BJT_RP1_Compiled.xlsm\n",
      "P:\\Mill Tickets\\ARCHIVE\\Retroactive_Ticket_imageing\\BJT\\RP3\n",
      "BJT_RP3_Compiled.xlsm\n",
      "P:\\Mill Tickets\\BJT_RP8\n",
      "BJT_RP8_Compiled.xlsm\n",
      "P:\\Mill Tickets\\ARCHIVE\\DLT_RP1\n",
      "DLT_RP1_Compiled.xlsm\n",
      "P:\\Mill Tickets\\ARCHIVE\\DLT_RP2\n",
      "DLT_RP2_Compiled.xlsm\n",
      "P:\\Mill Tickets\\ARCHIVE\\DLT_RP3\n",
      "DLT_RP3_Compiled.xlsm\n",
      "P:\\Mill Tickets\\DLT_RP4\n",
      "DLT_RP4_Compiled.xlsm\n",
      "P:\\Mill Tickets\\ARCHIVE\\MLB_RP8\n",
      "MLB_RP8_Compiled.xlsm\n",
      "P:\\Mill Tickets\\ARCHIVE\\MLB_RP9\n",
      "MLB_RP9_Compiled.xlsm\n",
      "P:\\Mill Tickets\\ARCHIVE\\Retroactive_Ticket_imageing\\MLB\\RP3\n",
      "MLB_RP3_Compiled.xlsm\n",
      "P:\\Mill Tickets\\ARCHIVE\\Retroactive_Ticket_imageing\\MLB\\RP4\n",
      "MLB_RP4_Compiled.xlsm\n",
      "P:\\Mill Tickets\\ARCHIVE\\Retroactive_Ticket_imageing\\MLB\\RP5\n",
      "MLB_RP5_Compiled.xlsm\n",
      "P:\\Mill Tickets\\MLB_RP10\n",
      "MLB_RP10_Compiled.xlsm\n",
      "P:\\Mill Tickets\\BKG_RP11\n",
      "BKG_RP11_Compiled.xlsm\n",
      "P:\\Mill Tickets\\MID_RP9\n",
      "MID_RP9_Compiled.xlsm\n"
     ]
    },
    {
     "data": {
      "text/plain": [
       "'\\n    big_df.loc[big_df[\\'Tons (U.S)\\'].isnull(), \\'Tons (U.S)\\'] = big_df.loc[big_df[\\'Tons (U.S)\\'].isnull(), \\'TonsUS\\']\\n    big_df[\\'Cull Tons\\'].fillna(big_df[\\'CullTons\\'], inplace=True)\\n    big_df[\\'Accepted Tons\\'].fillna(big_df[\\'AcceptedTons\\'], inplace=True)\\n    big_df[\\'Reporting Period\\'].fillna(big_df[\\'ReportingPeriod\\'],inplace=True)\\n\\n    def rep_fix(x):\\n        if \"RP\" in str(x):\\n            return x[-1]\\n        else:\\n            return x\\n        \\n    big_df[\\'Reporting Period\\'] = big_df[\\'Reporting Period\\'].apply(lambda x: rep_fix(x))\\n    big_df[\\'Reporting Period\\'] = pd.to_numeric(big_df[\\'Reporting Period\\'])\\n\\n    big_df[\\'Date\\'] = pd.to_datetime(big_df[\\'Date\\'])\\n\\n    harvest_df = big_df[[\\'Date\\',\\n                    \\'Ticket\\',\\n                    \\'Mill\\',\\n                    \\'Product\\',\\n                    \\'Tons (U.S)\\',\\n                    \\'Cull Tons\\',\\n                    \\'Accepted Tons\\',\\n                    \\'Source\\',\\n                    \\'Notes\\',\\n                    \\'Reporting Period\\',\\n                    \\'TicketID\\',\\n                    \\'Week\\']].copy()\\n\\n    harvest_df = harvest_df.drop_duplicates()\\n    '"
      ]
     },
     "execution_count": 19,
     "metadata": {},
     "output_type": "execute_result"
    }
   ],
   "source": [
    "mill_loc = r\"P:\\Mill Tickets\"\n",
    "mega_df = pd.DataFrame()\n",
    "\n",
    "for proj in projs:\n",
    "    file_pattern = f\"{proj}_RP*_Compiled.xlsm\"\n",
    "    big_df = pd.DataFrame()\n",
    "\n",
    "    mill_name = []\n",
    "    for root, dirs, files in os.walk(mill_loc):\n",
    "        for file in files:\n",
    "            if f\"{proj}_RP\" in file and file.endswith(\"Compiled.xlsm\"):\n",
    "                if \"$\" in file:\n",
    "                    pass\n",
    "                else:\n",
    "                    print(root)\n",
    "                    print(file)\n",
    "                    df = pd.read_excel(os.path.join(root, file), sheet_name='RP_Project')\n",
    "                    big_df = pd.concat([big_df, df])\n",
    "    mega_df = pd.concat([mega_df, big_df])\n",
    "                    \n",
    "'''\n",
    "    big_df.loc[big_df['Tons (U.S)'].isnull(), 'Tons (U.S)'] = big_df.loc[big_df['Tons (U.S)'].isnull(), 'TonsUS']\n",
    "    big_df['Cull Tons'].fillna(big_df['CullTons'], inplace=True)\n",
    "    big_df['Accepted Tons'].fillna(big_df['AcceptedTons'], inplace=True)\n",
    "    big_df['Reporting Period'].fillna(big_df['ReportingPeriod'],inplace=True)\n",
    "\n",
    "    def rep_fix(x):\n",
    "        if \"RP\" in str(x):\n",
    "            return x[-1]\n",
    "        else:\n",
    "            return x\n",
    "        \n",
    "    big_df['Reporting Period'] = big_df['Reporting Period'].apply(lambda x: rep_fix(x))\n",
    "    big_df['Reporting Period'] = pd.to_numeric(big_df['Reporting Period'])\n",
    "\n",
    "    big_df['Date'] = pd.to_datetime(big_df['Date'])\n",
    "\n",
    "    harvest_df = big_df[['Date',\n",
    "                    'Ticket',\n",
    "                    'Mill',\n",
    "                    'Product',\n",
    "                    'Tons (U.S)',\n",
    "                    'Cull Tons',\n",
    "                    'Accepted Tons',\n",
    "                    'Source',\n",
    "                    'Notes',\n",
    "                    'Reporting Period',\n",
    "                    'TicketID',\n",
    "                    'Week']].copy()\n",
    "\n",
    "    harvest_df = harvest_df.drop_duplicates()\n",
    "    '''"
   ]
  },
  {
   "cell_type": "code",
   "execution_count": 20,
   "metadata": {},
   "outputs": [],
   "source": [
    "mega_df.loc[mega_df['Tons (U.S)'].isnull(), 'Tons (U.S)'] = mega_df.loc[mega_df['Tons (U.S)'].isnull(), 'TonsUS']\n",
    "mega_df['Cull Tons'].fillna(mega_df['CullTons'], inplace=True)\n",
    "mega_df['Accepted Tons'].fillna(mega_df['AcceptedTons'], inplace=True)\n",
    "mega_df['Reporting Period'].fillna(mega_df['ReportingPeriod'],inplace=True)\n",
    "\n",
    "def rep_fix(x):\n",
    "    if \"RP\" in str(x):\n",
    "        return x.replace(\"RP\", \"\")\n",
    "    else:\n",
    "        return x\n",
    "    \n",
    "mega_df['Reporting Period'] = mega_df['Reporting Period'].apply(lambda x: rep_fix(x))\n",
    "mega_df['Reporting Period'] = pd.to_numeric(mega_df['Reporting Period'])\n",
    "\n",
    "mega_df['Date'] = pd.to_datetime(mega_df['Date'])\n",
    "\n",
    "harvest_df = mega_df[['Date',\n",
    "                'Ticket',\n",
    "                'Mill',\n",
    "                'Product',\n",
    "                'Tons (U.S)',\n",
    "                'Cull Tons',\n",
    "                'Accepted Tons',\n",
    "                'Source',\n",
    "                'Notes',\n",
    "                'Reporting Period',\n",
    "                'TicketID',\n",
    "                'Week']].copy()\n",
    "\n",
    "harvest_df = harvest_df.drop_duplicates(subset=['Date', 'Ticket', 'Tons (U.S)', 'Mill', 'Cull Tons', 'Accepted Tons', 'TicketID'], keep='first')\n",
    "harvest_df.loc[harvest_df['TicketID'] == 'WAR18051XXXX', 'TicketID'] = 'WAR180518XXXX' # Found some mislabeled tickets\n",
    "harvest_df.reset_index(inplace=True)"
   ]
  },
  {
   "cell_type": "code",
   "execution_count": 21,
   "metadata": {},
   "outputs": [],
   "source": [
    "# Find duplicated tickets based that are duplicated because of reporting period\n",
    "dup_no_rp = harvest_df[harvest_df.duplicated(subset=['Date', 'Ticket', 'Tons (U.S)', 'Mill', 'Cull Tons', 'Accepted Tons'], keep=False)]"
   ]
  },
  {
   "cell_type": "code",
   "execution_count": 22,
   "metadata": {},
   "outputs": [
    {
     "data": {
      "text/html": [
       "<div>\n",
       "<style scoped>\n",
       "    .dataframe tbody tr th:only-of-type {\n",
       "        vertical-align: middle;\n",
       "    }\n",
       "\n",
       "    .dataframe tbody tr th {\n",
       "        vertical-align: top;\n",
       "    }\n",
       "\n",
       "    .dataframe thead th {\n",
       "        text-align: right;\n",
       "    }\n",
       "</style>\n",
       "<table border=\"1\" class=\"dataframe\">\n",
       "  <thead>\n",
       "    <tr style=\"text-align: right;\">\n",
       "      <th></th>\n",
       "      <th>index</th>\n",
       "      <th>Date</th>\n",
       "      <th>Ticket</th>\n",
       "      <th>Mill</th>\n",
       "      <th>Product</th>\n",
       "      <th>Tons (U.S)</th>\n",
       "      <th>Cull Tons</th>\n",
       "      <th>Accepted Tons</th>\n",
       "      <th>Source</th>\n",
       "      <th>Notes</th>\n",
       "      <th>Reporting Period</th>\n",
       "      <th>TicketID</th>\n",
       "      <th>Week</th>\n",
       "    </tr>\n",
       "  </thead>\n",
       "  <tbody>\n",
       "  </tbody>\n",
       "</table>\n",
       "</div>"
      ],
      "text/plain": [
       "Empty DataFrame\n",
       "Columns: [index, Date, Ticket, Mill, Product, Tons (U.S), Cull Tons, Accepted Tons, Source, Notes, Reporting Period, TicketID, Week]\n",
       "Index: []"
      ]
     },
     "execution_count": 22,
     "metadata": {},
     "output_type": "execute_result"
    }
   ],
   "source": [
    "dup_no_rp.sort_values(by=['Ticket'])"
   ]
  },
  {
   "cell_type": "code",
   "execution_count": 23,
   "metadata": {},
   "outputs": [
    {
     "data": {
      "text/plain": [
       "array([ 8,  9,  3,  4,  5, 10], dtype=int64)"
      ]
     },
     "execution_count": 23,
     "metadata": {},
     "output_type": "execute_result"
    }
   ],
   "source": [
    "harvest_df.loc[harvest_df['TicketID'].str.contains(\"MLB\"), 'Reporting Period'].unique()"
   ]
  },
  {
   "cell_type": "code",
   "execution_count": 24,
   "metadata": {},
   "outputs": [
    {
     "data": {
      "text/html": [
       "<div>\n",
       "<style scoped>\n",
       "    .dataframe tbody tr th:only-of-type {\n",
       "        vertical-align: middle;\n",
       "    }\n",
       "\n",
       "    .dataframe tbody tr th {\n",
       "        vertical-align: top;\n",
       "    }\n",
       "\n",
       "    .dataframe thead th {\n",
       "        text-align: right;\n",
       "    }\n",
       "</style>\n",
       "<table border=\"1\" class=\"dataframe\">\n",
       "  <thead>\n",
       "    <tr style=\"text-align: right;\">\n",
       "      <th></th>\n",
       "      <th>index</th>\n",
       "      <th>Date</th>\n",
       "      <th>Ticket</th>\n",
       "      <th>Mill</th>\n",
       "      <th>Product</th>\n",
       "      <th>Tons (U.S)</th>\n",
       "      <th>Cull Tons</th>\n",
       "      <th>Accepted Tons</th>\n",
       "      <th>Source</th>\n",
       "      <th>Notes</th>\n",
       "      <th>Reporting Period</th>\n",
       "      <th>TicketID</th>\n",
       "      <th>Week</th>\n",
       "    </tr>\n",
       "  </thead>\n",
       "  <tbody>\n",
       "  </tbody>\n",
       "</table>\n",
       "</div>"
      ],
      "text/plain": [
       "Empty DataFrame\n",
       "Columns: [index, Date, Ticket, Mill, Product, Tons (U.S), Cull Tons, Accepted Tons, Source, Notes, Reporting Period, TicketID, Week]\n",
       "Index: []"
      ]
     },
     "execution_count": 24,
     "metadata": {},
     "output_type": "execute_result"
    }
   ],
   "source": [
    "harvest_df[harvest_df[\"Reporting Period\"] == 0]"
   ]
  },
  {
   "cell_type": "code",
   "execution_count": 25,
   "metadata": {},
   "outputs": [
    {
     "data": {
      "text/html": [
       "<div>\n",
       "<style scoped>\n",
       "    .dataframe tbody tr th:only-of-type {\n",
       "        vertical-align: middle;\n",
       "    }\n",
       "\n",
       "    .dataframe tbody tr th {\n",
       "        vertical-align: top;\n",
       "    }\n",
       "\n",
       "    .dataframe thead th {\n",
       "        text-align: right;\n",
       "    }\n",
       "</style>\n",
       "<table border=\"1\" class=\"dataframe\">\n",
       "  <thead>\n",
       "    <tr style=\"text-align: right;\">\n",
       "      <th></th>\n",
       "      <th>index</th>\n",
       "      <th>Date</th>\n",
       "      <th>Ticket</th>\n",
       "      <th>Mill</th>\n",
       "      <th>Product</th>\n",
       "      <th>Tons (U.S)</th>\n",
       "      <th>Cull Tons</th>\n",
       "      <th>Accepted Tons</th>\n",
       "      <th>Source</th>\n",
       "      <th>Notes</th>\n",
       "      <th>Reporting Period</th>\n",
       "      <th>TicketID</th>\n",
       "      <th>Week</th>\n",
       "    </tr>\n",
       "  </thead>\n",
       "  <tbody>\n",
       "    <tr>\n",
       "      <th>0</th>\n",
       "      <td>0</td>\n",
       "      <td>2018-04-02</td>\n",
       "      <td>559174</td>\n",
       "      <td>International Paper 70980 - Rome Mill Fiber</td>\n",
       "      <td>Pulpwood</td>\n",
       "      <td>29.13</td>\n",
       "      <td>0.000</td>\n",
       "      <td>29.130</td>\n",
       "      <td>HMWCFI_RP2_Harvest_Grp1.pdf</td>\n",
       "      <td>NaN</td>\n",
       "      <td>2</td>\n",
       "      <td>WAR180206TH02</td>\n",
       "      <td>1</td>\n",
       "    </tr>\n",
       "    <tr>\n",
       "      <th>1</th>\n",
       "      <td>1</td>\n",
       "      <td>2018-04-03</td>\n",
       "      <td>559404</td>\n",
       "      <td>International Paper 70980 - Rome Mill Fiber</td>\n",
       "      <td>Pulpwood</td>\n",
       "      <td>28.36</td>\n",
       "      <td>0.000</td>\n",
       "      <td>28.360</td>\n",
       "      <td>HMWCFI_RP2_Harvest_Grp1.pdf</td>\n",
       "      <td>NaN</td>\n",
       "      <td>2</td>\n",
       "      <td>WAR180206TH02</td>\n",
       "      <td>1</td>\n",
       "    </tr>\n",
       "    <tr>\n",
       "      <th>2</th>\n",
       "      <td>2</td>\n",
       "      <td>2018-04-06</td>\n",
       "      <td>560824</td>\n",
       "      <td>International Paper 70980 - Rome Mill Fiber</td>\n",
       "      <td>Pulpwood</td>\n",
       "      <td>30.21</td>\n",
       "      <td>0.000</td>\n",
       "      <td>30.210</td>\n",
       "      <td>HMWCFI_RP2_Harvest_Grp1.pdf</td>\n",
       "      <td>NaN</td>\n",
       "      <td>2</td>\n",
       "      <td>WAR180206TH02</td>\n",
       "      <td>1</td>\n",
       "    </tr>\n",
       "    <tr>\n",
       "      <th>3</th>\n",
       "      <td>3</td>\n",
       "      <td>2018-04-04</td>\n",
       "      <td>559994</td>\n",
       "      <td>International Paper 70980 - Rome Mill Fiber</td>\n",
       "      <td>Pulpwood</td>\n",
       "      <td>29.31</td>\n",
       "      <td>0.000</td>\n",
       "      <td>29.310</td>\n",
       "      <td>HMWCFI_RP2_Harvest_Grp1.pdf</td>\n",
       "      <td>NaN</td>\n",
       "      <td>2</td>\n",
       "      <td>WAR180206TH02</td>\n",
       "      <td>1</td>\n",
       "    </tr>\n",
       "    <tr>\n",
       "      <th>4</th>\n",
       "      <td>4</td>\n",
       "      <td>2018-04-04</td>\n",
       "      <td>559849</td>\n",
       "      <td>International Paper 70980 - Rome Mill Fiber</td>\n",
       "      <td>Pulpwood</td>\n",
       "      <td>31.89</td>\n",
       "      <td>0.000</td>\n",
       "      <td>31.890</td>\n",
       "      <td>HMWCFI_RP2_Harvest_Grp1.pdf</td>\n",
       "      <td>NaN</td>\n",
       "      <td>2</td>\n",
       "      <td>WAR180206TH02</td>\n",
       "      <td>1</td>\n",
       "    </tr>\n",
       "    <tr>\n",
       "      <th>...</th>\n",
       "      <td>...</td>\n",
       "      <td>...</td>\n",
       "      <td>...</td>\n",
       "      <td>...</td>\n",
       "      <td>...</td>\n",
       "      <td>...</td>\n",
       "      <td>...</td>\n",
       "      <td>...</td>\n",
       "      <td>...</td>\n",
       "      <td>...</td>\n",
       "      <td>...</td>\n",
       "      <td>...</td>\n",
       "      <td>...</td>\n",
       "    </tr>\n",
       "    <tr>\n",
       "      <th>48633</th>\n",
       "      <td>13941</td>\n",
       "      <td>2025-06-18</td>\n",
       "      <td>91044</td>\n",
       "      <td>Interfor - Thomaston</td>\n",
       "      <td>PST</td>\n",
       "      <td>34.22</td>\n",
       "      <td>0.250</td>\n",
       "      <td>33.970</td>\n",
       "      <td>13173 week 10 stand 14 and 24 9th reporting pe...</td>\n",
       "      <td>NaN</td>\n",
       "      <td>9</td>\n",
       "      <td>WAR240523TTXX</td>\n",
       "      <td>Week10</td>\n",
       "    </tr>\n",
       "    <tr>\n",
       "      <th>48634</th>\n",
       "      <td>13942</td>\n",
       "      <td>2025-06-19</td>\n",
       "      <td>91091</td>\n",
       "      <td>Interfor - Thomaston</td>\n",
       "      <td>PST</td>\n",
       "      <td>29.88</td>\n",
       "      <td>0.250</td>\n",
       "      <td>29.630</td>\n",
       "      <td>13173 week 10 stand 14 and 24 9th reporting pe...</td>\n",
       "      <td>NaN</td>\n",
       "      <td>9</td>\n",
       "      <td>WAR240523TTXX</td>\n",
       "      <td>Week10</td>\n",
       "    </tr>\n",
       "    <tr>\n",
       "      <th>48635</th>\n",
       "      <td>13943</td>\n",
       "      <td>2025-06-19</td>\n",
       "      <td>91119</td>\n",
       "      <td>Interfor - Thomaston</td>\n",
       "      <td>PST</td>\n",
       "      <td>30.17</td>\n",
       "      <td>0.125</td>\n",
       "      <td>30.045</td>\n",
       "      <td>13173 week 10 stand 14 and 24 9th reporting pe...</td>\n",
       "      <td>NaN</td>\n",
       "      <td>9</td>\n",
       "      <td>WAR240523TTXX</td>\n",
       "      <td>Week10</td>\n",
       "    </tr>\n",
       "    <tr>\n",
       "      <th>48636</th>\n",
       "      <td>13944</td>\n",
       "      <td>2025-06-19</td>\n",
       "      <td>91130</td>\n",
       "      <td>Interfor - Thomaston</td>\n",
       "      <td>PST</td>\n",
       "      <td>31.13</td>\n",
       "      <td>0.000</td>\n",
       "      <td>31.130</td>\n",
       "      <td>13173 week 10 stand 14 and 24 9th reporting pe...</td>\n",
       "      <td>NaN</td>\n",
       "      <td>9</td>\n",
       "      <td>WAR240523TTXX</td>\n",
       "      <td>Week10</td>\n",
       "    </tr>\n",
       "    <tr>\n",
       "      <th>48637</th>\n",
       "      <td>13945</td>\n",
       "      <td>2025-06-20</td>\n",
       "      <td>91211</td>\n",
       "      <td>Interfor - Thomaston</td>\n",
       "      <td>PST</td>\n",
       "      <td>29.97</td>\n",
       "      <td>0.000</td>\n",
       "      <td>29.970</td>\n",
       "      <td>13173 week 10 stand 14 and 24 9th reporting pe...</td>\n",
       "      <td>NaN</td>\n",
       "      <td>9</td>\n",
       "      <td>WAR240523TTXX</td>\n",
       "      <td>Week10</td>\n",
       "    </tr>\n",
       "  </tbody>\n",
       "</table>\n",
       "<p>48638 rows × 13 columns</p>\n",
       "</div>"
      ],
      "text/plain": [
       "       index       Date  Ticket                                         Mill  \\\n",
       "0          0 2018-04-02  559174  International Paper 70980 - Rome Mill Fiber   \n",
       "1          1 2018-04-03  559404  International Paper 70980 - Rome Mill Fiber   \n",
       "2          2 2018-04-06  560824  International Paper 70980 - Rome Mill Fiber   \n",
       "3          3 2018-04-04  559994  International Paper 70980 - Rome Mill Fiber   \n",
       "4          4 2018-04-04  559849  International Paper 70980 - Rome Mill Fiber   \n",
       "...      ...        ...     ...                                          ...   \n",
       "48633  13941 2025-06-18   91044                         Interfor - Thomaston   \n",
       "48634  13942 2025-06-19   91091                         Interfor - Thomaston   \n",
       "48635  13943 2025-06-19   91119                         Interfor - Thomaston   \n",
       "48636  13944 2025-06-19   91130                         Interfor - Thomaston   \n",
       "48637  13945 2025-06-20   91211                         Interfor - Thomaston   \n",
       "\n",
       "        Product  Tons (U.S)  Cull Tons  Accepted Tons  \\\n",
       "0      Pulpwood       29.13      0.000         29.130   \n",
       "1      Pulpwood       28.36      0.000         28.360   \n",
       "2      Pulpwood       30.21      0.000         30.210   \n",
       "3      Pulpwood       29.31      0.000         29.310   \n",
       "4      Pulpwood       31.89      0.000         31.890   \n",
       "...         ...         ...        ...            ...   \n",
       "48633       PST       34.22      0.250         33.970   \n",
       "48634       PST       29.88      0.250         29.630   \n",
       "48635       PST       30.17      0.125         30.045   \n",
       "48636       PST       31.13      0.000         31.130   \n",
       "48637       PST       29.97      0.000         29.970   \n",
       "\n",
       "                                                  Source Notes  \\\n",
       "0                            HMWCFI_RP2_Harvest_Grp1.pdf   NaN   \n",
       "1                            HMWCFI_RP2_Harvest_Grp1.pdf   NaN   \n",
       "2                            HMWCFI_RP2_Harvest_Grp1.pdf   NaN   \n",
       "3                            HMWCFI_RP2_Harvest_Grp1.pdf   NaN   \n",
       "4                            HMWCFI_RP2_Harvest_Grp1.pdf   NaN   \n",
       "...                                                  ...   ...   \n",
       "48633  13173 week 10 stand 14 and 24 9th reporting pe...   NaN   \n",
       "48634  13173 week 10 stand 14 and 24 9th reporting pe...   NaN   \n",
       "48635  13173 week 10 stand 14 and 24 9th reporting pe...   NaN   \n",
       "48636  13173 week 10 stand 14 and 24 9th reporting pe...   NaN   \n",
       "48637  13173 week 10 stand 14 and 24 9th reporting pe...   NaN   \n",
       "\n",
       "       Reporting Period       TicketID    Week  \n",
       "0                     2  WAR180206TH02       1  \n",
       "1                     2  WAR180206TH02       1  \n",
       "2                     2  WAR180206TH02       1  \n",
       "3                     2  WAR180206TH02       1  \n",
       "4                     2  WAR180206TH02       1  \n",
       "...                 ...            ...     ...  \n",
       "48633                 9  WAR240523TTXX  Week10  \n",
       "48634                 9  WAR240523TTXX  Week10  \n",
       "48635                 9  WAR240523TTXX  Week10  \n",
       "48636                 9  WAR240523TTXX  Week10  \n",
       "48637                 9  WAR240523TTXX  Week10  \n",
       "\n",
       "[48638 rows x 13 columns]"
      ]
     },
     "execution_count": 25,
     "metadata": {},
     "output_type": "execute_result"
    }
   ],
   "source": [
    "harvest_df.loc[(harvest_df['TicketID'].str.contains(\"WAR\"))]"
   ]
  },
  {
   "cell_type": "code",
   "execution_count": 26,
   "metadata": {},
   "outputs": [],
   "source": [
    "harvest_df.to_excel(\"ticket_all.xlsx\")"
   ]
  },
  {
   "cell_type": "code",
   "execution_count": 27,
   "metadata": {},
   "outputs": [
    {
     "data": {
      "text/plain": [
       "[1, 2, 3, 4]"
      ]
     },
     "execution_count": 27,
     "metadata": {},
     "output_type": "execute_result"
    }
   ],
   "source": [
    "harvest_df.loc[harvest_df['TicketID'].str.contains(\"DLT\"), 'Reporting Period'].unique().tolist()"
   ]
  },
  {
   "cell_type": "code",
   "execution_count": 28,
   "metadata": {},
   "outputs": [
    {
     "data": {
      "text/plain": [
       "420249.035"
      ]
     },
     "execution_count": 28,
     "metadata": {},
     "output_type": "execute_result"
    }
   ],
   "source": [
    "harvest_df.loc[(harvest_df['TicketID'].str.contains(\"WAR\")) & (harvest_df['Reporting Period'] == 9), 'Tons (U.S)'].sum()"
   ]
  },
  {
   "cell_type": "code",
   "execution_count": 29,
   "metadata": {},
   "outputs": [],
   "source": [
    "harvest_war_df = harvest_df.loc[(harvest_df['TicketID'].str.contains(\"WAR\"))].copy()\n",
    "harvest_war_df.sort_values(by=\"Date\", inplace=True)\n",
    "harvest_war_df['tons_cumsum'] = harvest_war_df['Tons (U.S)'].cumsum()"
   ]
  },
  {
   "cell_type": "code",
   "execution_count": 30,
   "metadata": {},
   "outputs": [
    {
     "data": {
      "text/plain": [
       "<Axes: xlabel='Date'>"
      ]
     },
     "execution_count": 30,
     "metadata": {},
     "output_type": "execute_result"
    },
    {
     "data": {
      "image/png": "[encoded data removed]",
      "text/plain": [
       "<Figure size 640x480 with 1 Axes>"
      ]
     },
     "metadata": {},
     "output_type": "display_data"
    }
   ],
   "source": [
    "harvest_war_df.plot(x='Date', y='tons_cumsum')"
   ]
  },
  {
   "cell_type": "code",
   "execution_count": 31,
   "metadata": {},
   "outputs": [
    {
     "data": {
      "text/plain": [
       "<matplotlib.legend.Legend at 0x26a00fcc0d0>"
      ]
     },
     "execution_count": 31,
     "metadata": {},
     "output_type": "execute_result"
    },
    {
     "data": {
      "image/png": "[encoded data removed]",
      "text/plain": [
       "<Figure size 640x480 with 1 Axes>"
      ]
     },
     "metadata": {},
     "output_type": "display_data"
    }
   ],
   "source": [
    "import matplotlib.pyplot as plt\n",
    "war_harvest = harvest_df.loc[(harvest_df['TicketID'].str.contains(\"WAR\"))].copy()\n",
    "wrr_harvest = harvest_df.loc[(harvest_df['TicketID'].str.contains(\"WRR\"))].copy()\n",
    "bjt_harvest = harvest_df.loc[(harvest_df['TicketID'].str.contains(\"BJT\"))].copy()\n",
    "dlt_harvest = harvest_df.loc[harvest_df['TicketID'].str.contains(\"DLT\")].copy()\n",
    "mlb_harvest = harvest_df.loc[harvest_df['TicketID'].str.contains(\"MLB\")].copy()\n",
    "war_harvest = war_harvest.sort_values(by=\"Date\")\n",
    "wrr_harvest = wrr_harvest.sort_values(by=\"Date\")\n",
    "bjt_harvest = bjt_harvest.sort_values(by=\"Date\")\n",
    "dlt_harvest = dlt_harvest.sort_values(by=\"Date\")\n",
    "mlb_harvest = mlb_harvest.sort_values(by=\"Date\")\n",
    "war_harvest['tons_cumsum'] = war_harvest['Tons (U.S)'].cumsum()\n",
    "wrr_harvest['tons_cumsum'] = wrr_harvest['Tons (U.S)'].cumsum()\n",
    "bjt_harvest['tons_cumsum'] = bjt_harvest['Tons (U.S)'].cumsum()\n",
    "dlt_harvest['tons_cumsum'] = dlt_harvest['Tons (U.S)'].cumsum()\n",
    "mlb_harvest['tons_cumsum'] = mlb_harvest['Tons (U.S)'].cumsum()\n",
    "\n",
    "fig, ax = plt.subplots()\n",
    "ax.plot(war_harvest['Date'], war_harvest['tons_cumsum'], label='WAR Tons')\n",
    "ax.plot(wrr_harvest['Date'], wrr_harvest['tons_cumsum'], label='WRR Tons')\n",
    "ax.plot(bjt_harvest['Date'], bjt_harvest['tons_cumsum'], label='BJT Tons')\n",
    "ax.plot(dlt_harvest['Date'], dlt_harvest['tons_cumsum'], label='DLT Tons')\n",
    "ax.plot(mlb_harvest['Date'], mlb_harvest['tons_cumsum'], label=\"MLB Tons\")\n",
    "ax.legend()\n"
   ]
  },
  {
   "cell_type": "code",
   "execution_count": 32,
   "metadata": {},
   "outputs": [],
   "source": [
    "harvest_df['project'] = harvest_df['TicketID'].str[:3]"
   ]
  },
  {
   "cell_type": "code",
   "execution_count": 33,
   "metadata": {},
   "outputs": [
    {
     "data": {
      "text/plain": [
       "Reporting Period  project\n",
       "1                 BJT          6561.16000\n",
       "                  DLT          3477.90000\n",
       "                  WRR          6742.35000\n",
       "2                 DLT         52145.25700\n",
       "                  WAR          5473.11000\n",
       "3                 BJT         20241.83000\n",
       "                  DLT         78300.46859\n",
       "                  MLB         19253.11000\n",
       "                  WAR         37813.91000\n",
       "4                 DLT         93668.79700\n",
       "                  MLB         10645.96000\n",
       "                  WAR         79671.06000\n",
       "5                 BJT         18764.73000\n",
       "                  MLB          7667.55900\n",
       "                  WAR        145187.66000\n",
       "                  WRR        118104.55000\n",
       "6                 BJT         22554.64300\n",
       "                  WAR        207275.13000\n",
       "                  WRR         67942.98000\n",
       "7                 WAR        216788.76000\n",
       "                  WRR         63343.45800\n",
       "8                 BJT         18822.38600\n",
       "                  MLB         22710.39700\n",
       "                  WAR        345687.85800\n",
       "                  WRR         47830.95500\n",
       "9                 MID         10244.69000\n",
       "                  MLB         14564.73800\n",
       "                  WAR        420249.03500\n",
       "10                MLB         12412.17000\n",
       "                  WAR          5545.23000\n",
       "11                BKG          6416.98900\n",
       "Name: Tons (U.S), dtype: float64"
      ]
     },
     "execution_count": 33,
     "metadata": {},
     "output_type": "execute_result"
    }
   ],
   "source": [
    "harvest_df.groupby([\"Reporting Period\", 'project'])['Tons (U.S)'].sum()"
   ]
  },
  {
   "cell_type": "code",
   "execution_count": 34,
   "metadata": {},
   "outputs": [],
   "source": [
    "harvest_df['year'] = harvest_df['Date'].dt.year"
   ]
  },
  {
   "cell_type": "code",
   "execution_count": 35,
   "metadata": {},
   "outputs": [
    {
     "data": {
      "text/plain": [
       "<Axes: xlabel='project'>"
      ]
     },
     "execution_count": 35,
     "metadata": {},
     "output_type": "execute_result"
    },
    {
     "data": {
      "image/png": "[encoded data removed]",
      "text/plain": [
       "<Figure size 640x480 with 1 Axes>"
      ]
     },
     "metadata": {},
     "output_type": "display_data"
    }
   ],
   "source": [
    "year_tons = harvest_df.groupby(['year', 'project'])['Tons (U.S)'].sum().reset_index()\n",
    "year_tons.groupby('project')['Tons (U.S)'].sum().reset_index().plot(kind='bar', x='project', y='Tons (U.S)')"
   ]
  },
  {
   "cell_type": "code",
   "execution_count": 36,
   "metadata": {},
   "outputs": [
    {
     "data": {
      "text/plain": [
       "Index(['index', 'Date', 'Ticket', 'Mill', 'Product', 'Tons (U.S)', 'Cull Tons',\n",
       "       'Accepted Tons', 'Source', 'Notes', 'Reporting Period', 'TicketID',\n",
       "       'Week', 'project', 'year'],\n",
       "      dtype='object')"
      ]
     },
     "execution_count": 36,
     "metadata": {},
     "output_type": "execute_result"
    }
   ],
   "source": [
    "harvest_df.columns"
   ]
  },
  {
   "cell_type": "code",
   "execution_count": 37,
   "metadata": {},
   "outputs": [],
   "source": [
    "mill_list = harvest_df['Mill'].unique().tolist()\n",
    "mill_dict = {}\n",
    "mill_dict['mill'] = mill_list\n",
    "mill_df = pd.DataFrame(mill_dict)\n",
    "mill_df['mill_uid'] = mill_df.index\n",
    "mill_mapper = dict(zip(mill_df['mill'], mill_df['mill_uid']))\n",
    "harvest_df['mill'] = harvest_df['Mill'].map(mill_mapper)\n",
    "harvest_df.drop(columns=['Mill'], inplace=True)"
   ]
  },
  {
   "cell_type": "code",
   "execution_count": 38,
   "metadata": {},
   "outputs": [],
   "source": [
    "harvest_df['Week'] = harvest_df['Week'].astype(str)\n",
    "harvest_df.loc[harvest_df['Week'] == 'Week3b', 'Week'] = \"3\"\n",
    "harvest_df.loc[harvest_df['Week'] == 'Week2B', 'Week'] = \"2\"\n",
    "def weeker(week):\n",
    "    if \"Week\" in week:\n",
    "        x = week.split(\"k\")[1]\n",
    "        x = int(x)\n",
    "        return x\n",
    "    elif \"nan\" in week:\n",
    "        return 0\n",
    "    else:\n",
    "        return int(week)\n",
    "    \n",
    "harvest_df['Week_trial'] = harvest_df['Week'].apply(lambda x: weeker(x))\n",
    "\n",
    "# I am not sure if I want to normalize the week or just leave it as the integer it is...\n",
    "'''week_list = harvest_df['Week_trial'].unique().tolist()\n",
    "week_dict = {}\n",
    "week_dict['week'] = week_list\n",
    "week_df = pd.DataFrame(week_dict)\n",
    "week_df['week_uid'] = week_df.index\n",
    "week_mapper = dict(zip(week_df['week'], week_df['week_uid']))\n",
    "harvest_df['week'] = harvest_df['Week_trial'].map(week_mapper)'''\n",
    "\n",
    "harvest_df['week'] = harvest_df['Week_trial']"
   ]
  },
  {
   "cell_type": "code",
   "execution_count": 39,
   "metadata": {},
   "outputs": [],
   "source": [
    "product_list = harvest_df['Product'].unique().tolist()\n",
    "product_dict = {}\n",
    "product_dict['product'] = product_list\n",
    "product_df = pd.DataFrame(product_dict)\n",
    "product_df['product_uid'] = product_df.index\n",
    "product_mapper = dict(zip(product_df['product'], product_df['product_uid']))\n",
    "harvest_df['product'] = harvest_df['Product'].map(product_mapper)"
   ]
  },
  {
   "cell_type": "code",
   "execution_count": 40,
   "metadata": {},
   "outputs": [],
   "source": [
    "#Map TicketID UID to harvest data\n",
    "ticket_id_mapper = dict(zip(ticketid_df['ticketid'], ticketid_df['ticketid_uid']))\n",
    "harvest_df['ticketid'] = harvest_df['TicketID'].map(ticket_id_mapper)\n",
    "# Map the project UID to harvest data (to help make it easier to calculate by client)\n",
    "project_id_mapper = dict(zip(project_df['project'], project_df['proj_uid']))\n",
    "harvest_df['proj'] = harvest_df['TicketID'].str[:3]\n",
    "harvest_df['project'] = harvest_df['proj'].map(project_id_mapper)\n",
    "harvest_df['ticketid'] = harvest_df['ticketid'].astype(int)\n",
    "harvest_df.drop(columns=['Product', 'TicketID', 'Week', 'Week_trial', 'index', 'proj'],inplace=True)\n",
    "harvest_df.rename(columns={'Tons (U.S)': 'total_tons'})\n",
    "harvest_df['harvest_uid'] = harvest_df.index"
   ]
  },
  {
   "cell_type": "code",
   "execution_count": 41,
   "metadata": {},
   "outputs": [
    {
     "data": {
      "text/html": [
       "<div>\n",
       "<style scoped>\n",
       "    .dataframe tbody tr th:only-of-type {\n",
       "        vertical-align: middle;\n",
       "    }\n",
       "\n",
       "    .dataframe tbody tr th {\n",
       "        vertical-align: top;\n",
       "    }\n",
       "\n",
       "    .dataframe thead th {\n",
       "        text-align: right;\n",
       "    }\n",
       "</style>\n",
       "<table border=\"1\" class=\"dataframe\">\n",
       "  <thead>\n",
       "    <tr style=\"text-align: right;\">\n",
       "      <th></th>\n",
       "      <th>Date</th>\n",
       "      <th>Ticket</th>\n",
       "      <th>Tons (U.S)</th>\n",
       "      <th>Cull Tons</th>\n",
       "      <th>Accepted Tons</th>\n",
       "      <th>Source</th>\n",
       "      <th>Notes</th>\n",
       "      <th>Reporting Period</th>\n",
       "      <th>project</th>\n",
       "      <th>year</th>\n",
       "      <th>mill</th>\n",
       "      <th>week</th>\n",
       "      <th>product</th>\n",
       "      <th>ticketid</th>\n",
       "      <th>harvest_uid</th>\n",
       "    </tr>\n",
       "  </thead>\n",
       "  <tbody>\n",
       "    <tr>\n",
       "      <th>0</th>\n",
       "      <td>2018-04-02</td>\n",
       "      <td>559174</td>\n",
       "      <td>29.13</td>\n",
       "      <td>0.0</td>\n",
       "      <td>29.13</td>\n",
       "      <td>HMWCFI_RP2_Harvest_Grp1.pdf</td>\n",
       "      <td>NaN</td>\n",
       "      <td>2</td>\n",
       "      <td>0</td>\n",
       "      <td>2018.0</td>\n",
       "      <td>0</td>\n",
       "      <td>1</td>\n",
       "      <td>0</td>\n",
       "      <td>476</td>\n",
       "      <td>0</td>\n",
       "    </tr>\n",
       "    <tr>\n",
       "      <th>1</th>\n",
       "      <td>2018-04-03</td>\n",
       "      <td>559404</td>\n",
       "      <td>28.36</td>\n",
       "      <td>0.0</td>\n",
       "      <td>28.36</td>\n",
       "      <td>HMWCFI_RP2_Harvest_Grp1.pdf</td>\n",
       "      <td>NaN</td>\n",
       "      <td>2</td>\n",
       "      <td>0</td>\n",
       "      <td>2018.0</td>\n",
       "      <td>0</td>\n",
       "      <td>1</td>\n",
       "      <td>0</td>\n",
       "      <td>476</td>\n",
       "      <td>1</td>\n",
       "    </tr>\n",
       "    <tr>\n",
       "      <th>2</th>\n",
       "      <td>2018-04-06</td>\n",
       "      <td>560824</td>\n",
       "      <td>30.21</td>\n",
       "      <td>0.0</td>\n",
       "      <td>30.21</td>\n",
       "      <td>HMWCFI_RP2_Harvest_Grp1.pdf</td>\n",
       "      <td>NaN</td>\n",
       "      <td>2</td>\n",
       "      <td>0</td>\n",
       "      <td>2018.0</td>\n",
       "      <td>0</td>\n",
       "      <td>1</td>\n",
       "      <td>0</td>\n",
       "      <td>476</td>\n",
       "      <td>2</td>\n",
       "    </tr>\n",
       "    <tr>\n",
       "      <th>3</th>\n",
       "      <td>2018-04-04</td>\n",
       "      <td>559994</td>\n",
       "      <td>29.31</td>\n",
       "      <td>0.0</td>\n",
       "      <td>29.31</td>\n",
       "      <td>HMWCFI_RP2_Harvest_Grp1.pdf</td>\n",
       "      <td>NaN</td>\n",
       "      <td>2</td>\n",
       "      <td>0</td>\n",
       "      <td>2018.0</td>\n",
       "      <td>0</td>\n",
       "      <td>1</td>\n",
       "      <td>0</td>\n",
       "      <td>476</td>\n",
       "      <td>3</td>\n",
       "    </tr>\n",
       "    <tr>\n",
       "      <th>4</th>\n",
       "      <td>2018-04-04</td>\n",
       "      <td>559849</td>\n",
       "      <td>31.89</td>\n",
       "      <td>0.0</td>\n",
       "      <td>31.89</td>\n",
       "      <td>HMWCFI_RP2_Harvest_Grp1.pdf</td>\n",
       "      <td>NaN</td>\n",
       "      <td>2</td>\n",
       "      <td>0</td>\n",
       "      <td>2018.0</td>\n",
       "      <td>0</td>\n",
       "      <td>1</td>\n",
       "      <td>0</td>\n",
       "      <td>476</td>\n",
       "      <td>4</td>\n",
       "    </tr>\n",
       "    <tr>\n",
       "      <th>...</th>\n",
       "      <td>...</td>\n",
       "      <td>...</td>\n",
       "      <td>...</td>\n",
       "      <td>...</td>\n",
       "      <td>...</td>\n",
       "      <td>...</td>\n",
       "      <td>...</td>\n",
       "      <td>...</td>\n",
       "      <td>...</td>\n",
       "      <td>...</td>\n",
       "      <td>...</td>\n",
       "      <td>...</td>\n",
       "      <td>...</td>\n",
       "      <td>...</td>\n",
       "      <td>...</td>\n",
       "    </tr>\n",
       "    <tr>\n",
       "      <th>73434</th>\n",
       "      <td>2023-06-12</td>\n",
       "      <td>152990</td>\n",
       "      <td>30.52</td>\n",
       "      <td>0.0</td>\n",
       "      <td>30.52</td>\n",
       "      <td>MID230119CCXX_Week04.pdf</td>\n",
       "      <td>NaN</td>\n",
       "      <td>9</td>\n",
       "      <td>6</td>\n",
       "      <td>2023.0</td>\n",
       "      <td>196</td>\n",
       "      <td>4</td>\n",
       "      <td>7</td>\n",
       "      <td>479</td>\n",
       "      <td>73434</td>\n",
       "    </tr>\n",
       "    <tr>\n",
       "      <th>73435</th>\n",
       "      <td>2023-06-12</td>\n",
       "      <td>152999</td>\n",
       "      <td>29.45</td>\n",
       "      <td>0.0</td>\n",
       "      <td>29.45</td>\n",
       "      <td>MID230119CCXX_Week04.pdf</td>\n",
       "      <td>NaN</td>\n",
       "      <td>9</td>\n",
       "      <td>6</td>\n",
       "      <td>2023.0</td>\n",
       "      <td>196</td>\n",
       "      <td>4</td>\n",
       "      <td>7</td>\n",
       "      <td>479</td>\n",
       "      <td>73435</td>\n",
       "    </tr>\n",
       "    <tr>\n",
       "      <th>73436</th>\n",
       "      <td>2023-06-12</td>\n",
       "      <td>153010</td>\n",
       "      <td>31.38</td>\n",
       "      <td>0.0</td>\n",
       "      <td>31.38</td>\n",
       "      <td>MID230119CCXX_Week04.pdf</td>\n",
       "      <td>NaN</td>\n",
       "      <td>9</td>\n",
       "      <td>6</td>\n",
       "      <td>2023.0</td>\n",
       "      <td>196</td>\n",
       "      <td>4</td>\n",
       "      <td>7</td>\n",
       "      <td>479</td>\n",
       "      <td>73436</td>\n",
       "    </tr>\n",
       "    <tr>\n",
       "      <th>73437</th>\n",
       "      <td>2023-06-12</td>\n",
       "      <td>153011</td>\n",
       "      <td>29.22</td>\n",
       "      <td>0.0</td>\n",
       "      <td>29.22</td>\n",
       "      <td>MID230119CCXX_Week04.pdf</td>\n",
       "      <td>NaN</td>\n",
       "      <td>9</td>\n",
       "      <td>6</td>\n",
       "      <td>2023.0</td>\n",
       "      <td>196</td>\n",
       "      <td>4</td>\n",
       "      <td>7</td>\n",
       "      <td>479</td>\n",
       "      <td>73437</td>\n",
       "    </tr>\n",
       "    <tr>\n",
       "      <th>73438</th>\n",
       "      <td>2023-06-12</td>\n",
       "      <td>153012</td>\n",
       "      <td>31.32</td>\n",
       "      <td>0.0</td>\n",
       "      <td>31.32</td>\n",
       "      <td>MID230119CCXX_Week04.pdf</td>\n",
       "      <td>NaN</td>\n",
       "      <td>9</td>\n",
       "      <td>6</td>\n",
       "      <td>2023.0</td>\n",
       "      <td>196</td>\n",
       "      <td>4</td>\n",
       "      <td>7</td>\n",
       "      <td>479</td>\n",
       "      <td>73438</td>\n",
       "    </tr>\n",
       "  </tbody>\n",
       "</table>\n",
       "<p>73439 rows × 15 columns</p>\n",
       "</div>"
      ],
      "text/plain": [
       "            Date  Ticket  Tons (U.S)  Cull Tons  Accepted Tons  \\\n",
       "0     2018-04-02  559174       29.13        0.0          29.13   \n",
       "1     2018-04-03  559404       28.36        0.0          28.36   \n",
       "2     2018-04-06  560824       30.21        0.0          30.21   \n",
       "3     2018-04-04  559994       29.31        0.0          29.31   \n",
       "4     2018-04-04  559849       31.89        0.0          31.89   \n",
       "...          ...     ...         ...        ...            ...   \n",
       "73434 2023-06-12  152990       30.52        0.0          30.52   \n",
       "73435 2023-06-12  152999       29.45        0.0          29.45   \n",
       "73436 2023-06-12  153010       31.38        0.0          31.38   \n",
       "73437 2023-06-12  153011       29.22        0.0          29.22   \n",
       "73438 2023-06-12  153012       31.32        0.0          31.32   \n",
       "\n",
       "                            Source Notes  Reporting Period  project    year  \\\n",
       "0      HMWCFI_RP2_Harvest_Grp1.pdf   NaN                 2        0  2018.0   \n",
       "1      HMWCFI_RP2_Harvest_Grp1.pdf   NaN                 2        0  2018.0   \n",
       "2      HMWCFI_RP2_Harvest_Grp1.pdf   NaN                 2        0  2018.0   \n",
       "3      HMWCFI_RP2_Harvest_Grp1.pdf   NaN                 2        0  2018.0   \n",
       "4      HMWCFI_RP2_Harvest_Grp1.pdf   NaN                 2        0  2018.0   \n",
       "...                            ...   ...               ...      ...     ...   \n",
       "73434     MID230119CCXX_Week04.pdf   NaN                 9        6  2023.0   \n",
       "73435     MID230119CCXX_Week04.pdf   NaN                 9        6  2023.0   \n",
       "73436     MID230119CCXX_Week04.pdf   NaN                 9        6  2023.0   \n",
       "73437     MID230119CCXX_Week04.pdf   NaN                 9        6  2023.0   \n",
       "73438     MID230119CCXX_Week04.pdf   NaN                 9        6  2023.0   \n",
       "\n",
       "       mill  week  product  ticketid  harvest_uid  \n",
       "0         0     1        0       476            0  \n",
       "1         0     1        0       476            1  \n",
       "2         0     1        0       476            2  \n",
       "3         0     1        0       476            3  \n",
       "4         0     1        0       476            4  \n",
       "...     ...   ...      ...       ...          ...  \n",
       "73434   196     4        7       479        73434  \n",
       "73435   196     4        7       479        73435  \n",
       "73436   196     4        7       479        73436  \n",
       "73437   196     4        7       479        73437  \n",
       "73438   196     4        7       479        73438  \n",
       "\n",
       "[73439 rows x 15 columns]"
      ]
     },
     "execution_count": 41,
     "metadata": {},
     "output_type": "execute_result"
    }
   ],
   "source": [
    "harvest_df"
   ]
  },
  {
   "cell_type": "code",
   "execution_count": 42,
   "metadata": {},
   "outputs": [
    {
     "data": {
      "text/plain": [
       "197"
      ]
     },
     "execution_count": 42,
     "metadata": {},
     "output_type": "execute_result"
    }
   ],
   "source": [
    "# Send harvest data to db\n",
    "\n",
    "harvest_df.to_sql('harvest_vol', conn, if_exists='replace', index=False, dtype={'harvest_uid':'INTEGER PRIMARY KEY', 'ticketid': 'INTEGER'})\n",
    "product_df.to_sql('product', conn, if_exists='replace', index=False, dtype={'product_uid': 'INTEGER PRIMARY KEY'})\n",
    "mill_df.to_sql('mill', conn, if_exists='replace', index=False, dtype={'mill_uid': 'INTEGER PRIMARY KEY'})"
   ]
  },
  {
   "cell_type": "markdown",
   "metadata": {},
   "source": [
    "## Time to make the Expected Tons / RP table\n",
    "\n",
    "\n",
    "My plan:\n",
    "- Get the previous RP expected simply from MSS \n",
    "- Current RP pull from files I made for Rob\n",
    "\n",
    "So if I can join MSS.groupby([\"TicketID\", \"RP\"])['Current RP Expected Tons'].sum() to mill_ticket.groupby(['TicketID', 'RP'])['Harvested Tons'].sum() AND MSS.groupb(['TICKETID', \"RP\"])['Future Tons'].sum() (which will be current RP + 1) I should be able to calculate the rolling expected tons by RP by TicketID - if not by UniqueID\n",
    "\n",
    "Alright.. The above didn't work out well\n",
    "New Plan:\n",
    "- Calculate out the expected by UniqueID from MSS for prevous RPs and don't worry about next RP yet for WAR & WRR until we hear back from them.\n",
    "- Join TicketID and groupby [ticketID, rp] and sum expected gt\n",
    "- this will be the previous RPs\n",
    "- Future RPs will have to be calculated when we hear back from the Foundation and with future requests\n",
    "- This will include UniqueIDs that have been withdrawn and cancelled and everything - so this will need to be joined to status to get the \"proper\" expected"
   ]
  },
  {
   "cell_type": "code",
   "execution_count": 104,
   "metadata": {},
   "outputs": [
    {
     "data": {
      "text/html": [
       "<div>\n",
       "<style scoped>\n",
       "    .dataframe tbody tr th:only-of-type {\n",
       "        vertical-align: middle;\n",
       "    }\n",
       "\n",
       "    .dataframe tbody tr th {\n",
       "        vertical-align: top;\n",
       "    }\n",
       "\n",
       "    .dataframe thead th {\n",
       "        text-align: right;\n",
       "    }\n",
       "</style>\n",
       "<table border=\"1\" class=\"dataframe\">\n",
       "  <thead>\n",
       "    <tr style=\"text-align: right;\">\n",
       "      <th></th>\n",
       "      <th>Unique ID</th>\n",
       "      <th>RP</th>\n",
       "      <th>Expected Volume</th>\n",
       "    </tr>\n",
       "  </thead>\n",
       "  <tbody>\n",
       "    <tr>\n",
       "      <th>0</th>\n",
       "      <td>WAR220728TT01</td>\n",
       "      <td>7</td>\n",
       "      <td>13703.40</td>\n",
       "    </tr>\n",
       "    <tr>\n",
       "      <th>1</th>\n",
       "      <td>WAR220728TH02</td>\n",
       "      <td>7</td>\n",
       "      <td>2545.50</td>\n",
       "    </tr>\n",
       "    <tr>\n",
       "      <th>2</th>\n",
       "      <td>WAR220810CC01</td>\n",
       "      <td>7</td>\n",
       "      <td>17000.00</td>\n",
       "    </tr>\n",
       "    <tr>\n",
       "      <th>3</th>\n",
       "      <td>WAR211101CC01</td>\n",
       "      <td>7</td>\n",
       "      <td>854.46</td>\n",
       "    </tr>\n",
       "    <tr>\n",
       "      <th>4</th>\n",
       "      <td>WAR211211CC01</td>\n",
       "      <td>7</td>\n",
       "      <td>5468.54</td>\n",
       "    </tr>\n",
       "  </tbody>\n",
       "</table>\n",
       "</div>"
      ],
      "text/plain": [
       "       Unique ID  RP   Expected Volume\n",
       "0  WAR220728TT01   7          13703.40\n",
       "1  WAR220728TH02   7           2545.50\n",
       "2  WAR220810CC01   7          17000.00\n",
       "3  WAR211101CC01   7            854.46\n",
       "4  WAR211211CC01   7           5468.54"
      ]
     },
     "execution_count": 104,
     "metadata": {},
     "output_type": "execute_result"
    }
   ],
   "source": [
    "expected_df = pd.read_excel(r\"carryover_UNIQUEID_workup.xlsx\")\n",
    "expected_df[' Expected Volume'] = pd.to_numeric(expected_df[' Expected Volume'])\n",
    "expected_df['RP'] = pd.to_numeric(expected_df['RP'])\n",
    "expected_df.head()"
   ]
  },
  {
   "cell_type": "markdown",
   "metadata": {},
   "source": [
    "I think we need to discover when activities were completed which - I think - means I need to bring in the Applied All feature class from GAS to determine the final RP that an activity was active\n"
   ]
  },
  {
   "cell_type": "code",
   "execution_count": 105,
   "metadata": {},
   "outputs": [],
   "source": [
    "unique_2_ticket = pd.read_sql('SELECT * FROM ticketid_lookup_activityid', conn)\n",
    "expected_ticketid_df = pd.merge(expected_df, unique_2_ticket, how='left', left_on='Unique ID', right_on='ticket_lookup_uid')"
   ]
  },
  {
   "cell_type": "code",
   "execution_count": 106,
   "metadata": {},
   "outputs": [
    {
     "data": {
      "text/html": [
       "<div>\n",
       "<style scoped>\n",
       "    .dataframe tbody tr th:only-of-type {\n",
       "        vertical-align: middle;\n",
       "    }\n",
       "\n",
       "    .dataframe tbody tr th {\n",
       "        vertical-align: top;\n",
       "    }\n",
       "\n",
       "    .dataframe thead th {\n",
       "        text-align: right;\n",
       "    }\n",
       "</style>\n",
       "<table border=\"1\" class=\"dataframe\">\n",
       "  <thead>\n",
       "    <tr style=\"text-align: right;\">\n",
       "      <th></th>\n",
       "      <th>Unique ID</th>\n",
       "      <th>RP</th>\n",
       "      <th>Expected Volume</th>\n",
       "      <th>ticket_lookup_uid</th>\n",
       "      <th>ticketid</th>\n",
       "    </tr>\n",
       "  </thead>\n",
       "  <tbody>\n",
       "    <tr>\n",
       "      <th>0</th>\n",
       "      <td>WAR220728TT01</td>\n",
       "      <td>7</td>\n",
       "      <td>13703.40</td>\n",
       "      <td>WAR220728TT01</td>\n",
       "      <td>446.0</td>\n",
       "    </tr>\n",
       "    <tr>\n",
       "      <th>1</th>\n",
       "      <td>WAR220728TH02</td>\n",
       "      <td>7</td>\n",
       "      <td>2545.50</td>\n",
       "      <td>WAR220728TH02</td>\n",
       "      <td>446.0</td>\n",
       "    </tr>\n",
       "    <tr>\n",
       "      <th>2</th>\n",
       "      <td>WAR220810CC01</td>\n",
       "      <td>7</td>\n",
       "      <td>17000.00</td>\n",
       "      <td>NaN</td>\n",
       "      <td>NaN</td>\n",
       "    </tr>\n",
       "    <tr>\n",
       "      <th>3</th>\n",
       "      <td>WAR211101CC01</td>\n",
       "      <td>7</td>\n",
       "      <td>854.46</td>\n",
       "      <td>WAR211101CC01</td>\n",
       "      <td>216.0</td>\n",
       "    </tr>\n",
       "    <tr>\n",
       "      <th>4</th>\n",
       "      <td>WAR211211CC01</td>\n",
       "      <td>7</td>\n",
       "      <td>5468.54</td>\n",
       "      <td>WAR211211CC01</td>\n",
       "      <td>214.0</td>\n",
       "    </tr>\n",
       "    <tr>\n",
       "      <th>...</th>\n",
       "      <td>...</td>\n",
       "      <td>...</td>\n",
       "      <td>...</td>\n",
       "      <td>...</td>\n",
       "      <td>...</td>\n",
       "    </tr>\n",
       "    <tr>\n",
       "      <th>485</th>\n",
       "      <td>DLT220623TH11</td>\n",
       "      <td>2</td>\n",
       "      <td>3060.00</td>\n",
       "      <td>DLT220623TH11</td>\n",
       "      <td>552.0</td>\n",
       "    </tr>\n",
       "    <tr>\n",
       "      <th>486</th>\n",
       "      <td>DLT220623TH07</td>\n",
       "      <td>2</td>\n",
       "      <td>3300.00</td>\n",
       "      <td>DLT220623TH07</td>\n",
       "      <td>553.0</td>\n",
       "    </tr>\n",
       "    <tr>\n",
       "      <th>487</th>\n",
       "      <td>DLT220623TH06</td>\n",
       "      <td>2</td>\n",
       "      <td>6305.00</td>\n",
       "      <td>DLT220623TH06</td>\n",
       "      <td>554.0</td>\n",
       "    </tr>\n",
       "    <tr>\n",
       "      <th>488</th>\n",
       "      <td>DLT220623TH05</td>\n",
       "      <td>2</td>\n",
       "      <td>492.00</td>\n",
       "      <td>DLT220623TH05</td>\n",
       "      <td>555.0</td>\n",
       "    </tr>\n",
       "    <tr>\n",
       "      <th>489</th>\n",
       "      <td>DLT210517TH01</td>\n",
       "      <td>1</td>\n",
       "      <td>2650.00</td>\n",
       "      <td>DLT210517TH01</td>\n",
       "      <td>556.0</td>\n",
       "    </tr>\n",
       "  </tbody>\n",
       "</table>\n",
       "<p>490 rows × 5 columns</p>\n",
       "</div>"
      ],
      "text/plain": [
       "         Unique ID  RP   Expected Volume ticket_lookup_uid  ticketid\n",
       "0    WAR220728TT01   7          13703.40     WAR220728TT01     446.0\n",
       "1    WAR220728TH02   7           2545.50     WAR220728TH02     446.0\n",
       "2    WAR220810CC01   7          17000.00               NaN       NaN\n",
       "3    WAR211101CC01   7            854.46     WAR211101CC01     216.0\n",
       "4    WAR211211CC01   7           5468.54     WAR211211CC01     214.0\n",
       "..             ...  ..               ...               ...       ...\n",
       "485  DLT220623TH11   2           3060.00     DLT220623TH11     552.0\n",
       "486  DLT220623TH07   2           3300.00     DLT220623TH07     553.0\n",
       "487  DLT220623TH06   2           6305.00     DLT220623TH06     554.0\n",
       "488  DLT220623TH05   2            492.00     DLT220623TH05     555.0\n",
       "489  DLT210517TH01   1           2650.00     DLT210517TH01     556.0\n",
       "\n",
       "[490 rows x 5 columns]"
      ]
     },
     "execution_count": 106,
     "metadata": {},
     "output_type": "execute_result"
    }
   ],
   "source": [
    "expected_ticketid_df"
   ]
  },
  {
   "cell_type": "code",
   "execution_count": 107,
   "metadata": {},
   "outputs": [
    {
     "data": {
      "text/html": [
       "<div>\n",
       "<style scoped>\n",
       "    .dataframe tbody tr th:only-of-type {\n",
       "        vertical-align: middle;\n",
       "    }\n",
       "\n",
       "    .dataframe tbody tr th {\n",
       "        vertical-align: top;\n",
       "    }\n",
       "\n",
       "    .dataframe thead th {\n",
       "        text-align: right;\n",
       "    }\n",
       "</style>\n",
       "<table border=\"1\" class=\"dataframe\">\n",
       "  <thead>\n",
       "    <tr style=\"text-align: right;\">\n",
       "      <th></th>\n",
       "      <th>ticketid</th>\n",
       "      <th>ticketid_uid</th>\n",
       "      <th>tcs</th>\n",
       "    </tr>\n",
       "  </thead>\n",
       "  <tbody>\n",
       "    <tr>\n",
       "      <th>0</th>\n",
       "      <td>WAR241025HDXY</td>\n",
       "      <td>0</td>\n",
       "      <td>352</td>\n",
       "    </tr>\n",
       "    <tr>\n",
       "      <th>1</th>\n",
       "      <td>WAR250620THXX</td>\n",
       "      <td>1</td>\n",
       "      <td>371</td>\n",
       "    </tr>\n",
       "    <tr>\n",
       "      <th>2</th>\n",
       "      <td>WAR250310BI03</td>\n",
       "      <td>2</td>\n",
       "      <td>359</td>\n",
       "    </tr>\n",
       "    <tr>\n",
       "      <th>3</th>\n",
       "      <td>WAR250310BI02</td>\n",
       "      <td>3</td>\n",
       "      <td>358</td>\n",
       "    </tr>\n",
       "    <tr>\n",
       "      <th>4</th>\n",
       "      <td>WAR250310BI01</td>\n",
       "      <td>4</td>\n",
       "      <td>357</td>\n",
       "    </tr>\n",
       "    <tr>\n",
       "      <th>...</th>\n",
       "      <td>...</td>\n",
       "      <td>...</td>\n",
       "      <td>...</td>\n",
       "    </tr>\n",
       "    <tr>\n",
       "      <th>578</th>\n",
       "      <td>WRR240109TT01</td>\n",
       "      <td>578</td>\n",
       "      <td>542</td>\n",
       "    </tr>\n",
       "    <tr>\n",
       "      <th>579</th>\n",
       "      <td>WRR240325BN01</td>\n",
       "      <td>579</td>\n",
       "      <td>545</td>\n",
       "    </tr>\n",
       "    <tr>\n",
       "      <th>580</th>\n",
       "      <td>WRR240318BN02</td>\n",
       "      <td>580</td>\n",
       "      <td>544</td>\n",
       "    </tr>\n",
       "    <tr>\n",
       "      <th>581</th>\n",
       "      <td>WRR240318BN01</td>\n",
       "      <td>581</td>\n",
       "      <td>543</td>\n",
       "    </tr>\n",
       "    <tr>\n",
       "      <th>582</th>\n",
       "      <td></td>\n",
       "      <td>582</td>\n",
       "      <td>0</td>\n",
       "    </tr>\n",
       "  </tbody>\n",
       "</table>\n",
       "<p>583 rows × 3 columns</p>\n",
       "</div>"
      ],
      "text/plain": [
       "          ticketid  ticketid_uid  tcs\n",
       "0    WAR241025HDXY             0  352\n",
       "1    WAR250620THXX             1  371\n",
       "2    WAR250310BI03             2  359\n",
       "3    WAR250310BI02             3  358\n",
       "4    WAR250310BI01             4  357\n",
       "..             ...           ...  ...\n",
       "578  WRR240109TT01           578  542\n",
       "579  WRR240325BN01           579  545\n",
       "580  WRR240318BN02           580  544\n",
       "581  WRR240318BN01           581  543\n",
       "582                          582    0\n",
       "\n",
       "[583 rows x 3 columns]"
      ]
     },
     "execution_count": 107,
     "metadata": {},
     "output_type": "execute_result"
    }
   ],
   "source": [
    "ticketid_lookup = pd.read_sql('SELECT * FROM ticketid', conn)\n",
    "ticketid_lookup"
   ]
  },
  {
   "cell_type": "code",
   "execution_count": 108,
   "metadata": {},
   "outputs": [],
   "source": [
    "expected_ticketid_df = pd.merge(expected_ticketid_df, ticketid_lookup, how='left', left_on='ticketid', right_on='ticketid_uid')"
   ]
  },
  {
   "cell_type": "code",
   "execution_count": 109,
   "metadata": {},
   "outputs": [
    {
     "data": {
      "text/html": [
       "<div>\n",
       "<style scoped>\n",
       "    .dataframe tbody tr th:only-of-type {\n",
       "        vertical-align: middle;\n",
       "    }\n",
       "\n",
       "    .dataframe tbody tr th {\n",
       "        vertical-align: top;\n",
       "    }\n",
       "\n",
       "    .dataframe thead th {\n",
       "        text-align: right;\n",
       "    }\n",
       "</style>\n",
       "<table border=\"1\" class=\"dataframe\">\n",
       "  <thead>\n",
       "    <tr style=\"text-align: right;\">\n",
       "      <th></th>\n",
       "      <th>Unique ID</th>\n",
       "      <th>RP</th>\n",
       "      <th>Expected Volume</th>\n",
       "      <th>ticket_lookup_uid</th>\n",
       "      <th>ticketid_x</th>\n",
       "      <th>ticketid_y</th>\n",
       "      <th>ticketid_uid</th>\n",
       "      <th>tcs</th>\n",
       "    </tr>\n",
       "  </thead>\n",
       "  <tbody>\n",
       "    <tr>\n",
       "      <th>0</th>\n",
       "      <td>WAR220728TT01</td>\n",
       "      <td>7</td>\n",
       "      <td>13703.40</td>\n",
       "      <td>WAR220728TT01</td>\n",
       "      <td>446.0</td>\n",
       "      <td>WAR220728XXXX</td>\n",
       "      <td>446.0</td>\n",
       "      <td>227.0</td>\n",
       "    </tr>\n",
       "    <tr>\n",
       "      <th>1</th>\n",
       "      <td>WAR220728TH02</td>\n",
       "      <td>7</td>\n",
       "      <td>2545.50</td>\n",
       "      <td>WAR220728TH02</td>\n",
       "      <td>446.0</td>\n",
       "      <td>WAR220728XXXX</td>\n",
       "      <td>446.0</td>\n",
       "      <td>227.0</td>\n",
       "    </tr>\n",
       "    <tr>\n",
       "      <th>2</th>\n",
       "      <td>WAR220810CC01</td>\n",
       "      <td>7</td>\n",
       "      <td>17000.00</td>\n",
       "      <td>NaN</td>\n",
       "      <td>NaN</td>\n",
       "      <td>NaN</td>\n",
       "      <td>NaN</td>\n",
       "      <td>NaN</td>\n",
       "    </tr>\n",
       "    <tr>\n",
       "      <th>3</th>\n",
       "      <td>WAR211101CC01</td>\n",
       "      <td>7</td>\n",
       "      <td>854.46</td>\n",
       "      <td>WAR211101CC01</td>\n",
       "      <td>216.0</td>\n",
       "      <td>WAR211101CC01</td>\n",
       "      <td>216.0</td>\n",
       "      <td>217.0</td>\n",
       "    </tr>\n",
       "    <tr>\n",
       "      <th>4</th>\n",
       "      <td>WAR211211CC01</td>\n",
       "      <td>7</td>\n",
       "      <td>5468.54</td>\n",
       "      <td>WAR211211CC01</td>\n",
       "      <td>214.0</td>\n",
       "      <td>WAR211211CC01</td>\n",
       "      <td>214.0</td>\n",
       "      <td>219.0</td>\n",
       "    </tr>\n",
       "  </tbody>\n",
       "</table>\n",
       "</div>"
      ],
      "text/plain": [
       "       Unique ID  RP   Expected Volume ticket_lookup_uid  ticketid_x  \\\n",
       "0  WAR220728TT01   7          13703.40     WAR220728TT01       446.0   \n",
       "1  WAR220728TH02   7           2545.50     WAR220728TH02       446.0   \n",
       "2  WAR220810CC01   7          17000.00               NaN         NaN   \n",
       "3  WAR211101CC01   7            854.46     WAR211101CC01       216.0   \n",
       "4  WAR211211CC01   7           5468.54     WAR211211CC01       214.0   \n",
       "\n",
       "      ticketid_y  ticketid_uid    tcs  \n",
       "0  WAR220728XXXX         446.0  227.0  \n",
       "1  WAR220728XXXX         446.0  227.0  \n",
       "2            NaN           NaN    NaN  \n",
       "3  WAR211101CC01         216.0  217.0  \n",
       "4  WAR211211CC01         214.0  219.0  "
      ]
     },
     "execution_count": 109,
     "metadata": {},
     "output_type": "execute_result"
    }
   ],
   "source": [
    "expected_ticketid_df.head()"
   ]
  },
  {
   "cell_type": "code",
   "execution_count": 110,
   "metadata": {},
   "outputs": [],
   "source": [
    "expected_ticketid_df['ticketid_y'].fillna(expected_ticketid_df['Unique ID'], inplace=True)"
   ]
  },
  {
   "cell_type": "code",
   "execution_count": 111,
   "metadata": {},
   "outputs": [],
   "source": [
    "expected_ticketid_grouped_df = expected_ticketid_df.groupby(['ticketid_y','RP'])[' Expected Volume'].sum().reset_index()"
   ]
  },
  {
   "cell_type": "code",
   "execution_count": 114,
   "metadata": {},
   "outputs": [
    {
     "data": {
      "text/plain": [
       "338353.7792595959"
      ]
     },
     "execution_count": 114,
     "metadata": {},
     "output_type": "execute_result"
    }
   ],
   "source": [
    "expected_ticketid_grouped_df[(expected_ticketid_grouped_df['ticketid_y'].str.contains(\"WAR\")) & (expected_ticketid_grouped_df['RP'] == 7)][' Expected Volume'].sum()"
   ]
  },
  {
   "cell_type": "code",
   "execution_count": 120,
   "metadata": {},
   "outputs": [
    {
     "data": {
      "image/png": "[encoded data removed]",
      "text/plain": [
       "<Figure size 640x480 with 1 Axes>"
      ]
     },
     "metadata": {},
     "output_type": "display_data"
    }
   ],
   "source": [
    "war_expected = expected_ticketid_grouped_df[expected_ticketid_grouped_df['ticketid_y'].str.contains(\"WAR\")].copy()\n",
    "war_rp_expected = war_expected.groupby('RP')[' Expected Volume'].sum()\n",
    "ax = war_rp_expected.plot.bar(y=' Expected Volume')"
   ]
  },
  {
   "cell_type": "code",
   "execution_count": null,
   "metadata": {},
   "outputs": [],
   "source": []
  },
  {
   "cell_type": "code",
   "execution_count": null,
   "metadata": {},
   "outputs": [],
   "source": []
  },
  {
   "cell_type": "code",
   "execution_count": null,
   "metadata": {},
   "outputs": [],
   "source": []
  }
 ],
 "metadata": {
  "kernelspec": {
   "display_name": "postgres_python",
   "language": "python",
   "name": "python3"
  },
  "language_info": {
   "codemirror_mode": {
    "name": "ipython",
    "version": 3
   },
   "file_extension": ".py",
   "mimetype": "text/x-python",
   "name": "python",
   "nbconvert_exporter": "python",
   "pygments_lexer": "ipython3",
   "version": "3.11.6"
  }
 },
 "nbformat": 4,
 "nbformat_minor": 2
}
