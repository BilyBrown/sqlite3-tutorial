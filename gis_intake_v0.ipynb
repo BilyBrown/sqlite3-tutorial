{
 "cells": [
  {
   "cell_type": "code",
   "execution_count": 1,
   "metadata": {},
   "outputs": [],
   "source": [
    "import pandas as pd\n",
    "import sqlite3"
   ]
  },
  {
   "cell_type": "code",
   "execution_count": null,
   "metadata": {},
   "outputs": [],
   "source": [
    "def max_value(row):\n",
    "    print(row)\n",
    "    return max(row['ga_gt'], row['client_total'])"
   ]
  },
  {
   "cell_type": "code",
   "execution_count": 2,
   "metadata": {},
   "outputs": [],
   "source": [
    "# Define DB\n",
    "conn = sqlite3.connect(r'C:\\Users\\bbrown\\Documents\\python_scripts\\db-build-trial\\db_trial_v1\\ga_harvest.db')\n",
    "c = conn.cursor()"
   ]
  },
  {
   "cell_type": "code",
   "execution_count": 50,
   "metadata": {},
   "outputs": [],
   "source": [
    "# Create a mock-up GIS dataset\n",
    "data = {\"INTAKE_ID\": \"BBB241127\",\n",
    "        \"UNIQUE_ID\": \"BBB241127TH04\",\n",
    "        \"STATE\": \"GA\",\n",
    "        \"COUNTY\": \"Heard\",\n",
    "        \"COMP\": None,\n",
    "        \"TRACT\": \"Bily\",\n",
    "        \"STAND\": \"1\",\n",
    "        \"CLIENT_ACR\": 43,\n",
    "        \"GA_ACRES\": 50,\n",
    "        \"EST_AGE\": 23,\n",
    "        \"SPECIES\": \"Loblolly Pine\",\n",
    "        \"ORIGIN\": \"Planted\",\n",
    "        \"PRE_BA\": 100,\n",
    "        \"PRE_TPA\": 120,\n",
    "        \"PRE_GTA\": 112,\n",
    "        \"PLN_BA\": 50,\n",
    "        \"PLN_TPA\": 50,\n",
    "        \"PLN_GTA\": 50,\n",
    "        \"GT_CURRENT\": 400,\n",
    "        \"GT_FUTURE\": 0,\n",
    "        \"RP_REQUEST\": 9,\n",
    "        \"COMMENTS\": None\n",
    "        }\n",
    "\n",
    "df = pd.DataFrame(data, index=[0])"
   ]
  },
  {
   "cell_type": "code",
   "execution_count": 51,
   "metadata": {},
   "outputs": [
    {
     "data": {
      "text/html": [
       "<div>\n",
       "<style scoped>\n",
       "    .dataframe tbody tr th:only-of-type {\n",
       "        vertical-align: middle;\n",
       "    }\n",
       "\n",
       "    .dataframe tbody tr th {\n",
       "        vertical-align: top;\n",
       "    }\n",
       "\n",
       "    .dataframe thead th {\n",
       "        text-align: right;\n",
       "    }\n",
       "</style>\n",
       "<table border=\"1\" class=\"dataframe\">\n",
       "  <thead>\n",
       "    <tr style=\"text-align: right;\">\n",
       "      <th></th>\n",
       "      <th>INTAKE_ID</th>\n",
       "      <th>UNIQUE_ID</th>\n",
       "      <th>STATE</th>\n",
       "      <th>COUNTY</th>\n",
       "      <th>COMP</th>\n",
       "      <th>TRACT</th>\n",
       "      <th>STAND</th>\n",
       "      <th>CLIENT_ACR</th>\n",
       "      <th>GA_ACRES</th>\n",
       "      <th>EST_AGE</th>\n",
       "      <th>...</th>\n",
       "      <th>PRE_BA</th>\n",
       "      <th>PRE_TPA</th>\n",
       "      <th>PRE_GTA</th>\n",
       "      <th>PLN_BA</th>\n",
       "      <th>PLN_TPA</th>\n",
       "      <th>PLN_GTA</th>\n",
       "      <th>GT_CURRENT</th>\n",
       "      <th>GT_FUTURE</th>\n",
       "      <th>RP_REQUEST</th>\n",
       "      <th>COMMENTS</th>\n",
       "    </tr>\n",
       "  </thead>\n",
       "  <tbody>\n",
       "    <tr>\n",
       "      <th>0</th>\n",
       "      <td>BBB241127</td>\n",
       "      <td>BBB241127TH04</td>\n",
       "      <td>GA</td>\n",
       "      <td>Heard</td>\n",
       "      <td>None</td>\n",
       "      <td>Bily</td>\n",
       "      <td>1</td>\n",
       "      <td>43</td>\n",
       "      <td>50</td>\n",
       "      <td>23</td>\n",
       "      <td>...</td>\n",
       "      <td>100</td>\n",
       "      <td>120</td>\n",
       "      <td>112</td>\n",
       "      <td>50</td>\n",
       "      <td>50</td>\n",
       "      <td>50</td>\n",
       "      <td>400</td>\n",
       "      <td>0</td>\n",
       "      <td>9</td>\n",
       "      <td>None</td>\n",
       "    </tr>\n",
       "  </tbody>\n",
       "</table>\n",
       "<p>1 rows × 22 columns</p>\n",
       "</div>"
      ],
      "text/plain": [
       "   INTAKE_ID      UNIQUE_ID STATE COUNTY  COMP TRACT STAND  CLIENT_ACR  \\\n",
       "0  BBB241127  BBB241127TH04    GA  Heard  None  Bily     1          43   \n",
       "\n",
       "   GA_ACRES  EST_AGE  ... PRE_BA PRE_TPA  PRE_GTA  PLN_BA  PLN_TPA  PLN_GTA  \\\n",
       "0        50       23  ...    100     120      112      50       50       50   \n",
       "\n",
       "   GT_CURRENT  GT_FUTURE  RP_REQUEST  COMMENTS  \n",
       "0         400          0           9      None  \n",
       "\n",
       "[1 rows x 22 columns]"
      ]
     },
     "execution_count": 51,
     "metadata": {},
     "output_type": "execute_result"
    }
   ],
   "source": [
    "df"
   ]
  },
  {
   "cell_type": "code",
   "execution_count": 52,
   "metadata": {},
   "outputs": [],
   "source": [
    "client_df = df[\n",
    "    ['UNIQUE_ID',\n",
    "     'TRACT',\n",
    "     'COMP',\n",
    "     'STAND',\n",
    "     'CLIENT_ACR',\n",
    "     'EST_AGE',\n",
    "     'COUNTY',\n",
    "     'STATE',\n",
    "     'SPECIES',\n",
    "     'ORIGIN',\n",
    "     'PRE_BA',\n",
    "     'PRE_TPA',\n",
    "     'PRE_GTA',\n",
    "     'PLN_BA',\n",
    "     'PLN_TPA',\n",
    "     'PLN_GTA',\n",
    "     'GT_CURRENT',\n",
    "     'GT_FUTURE',\n",
    "     'RP_REQUEST'\n",
    "     ]\n",
    "].copy()\n",
    "\n",
    "client_df.rename(columns={\n",
    "    'UNIQUE_ID': 'client_uid',\n",
    "    'COMP': 'cmp',\n",
    "    'CLIENT_ACR': 'acres',\n",
    "    'EST_AGE': 'age',\n",
    "    'PRE_BA': \"preba\",\n",
    "    \"PRE_TPA\": \"pretpa\",\n",
    "    \"PRE_GTA\": 'pregta',\n",
    "    'PLN_BA': 'plnba',\n",
    "    'PLN_TPA': 'plntpa',\n",
    "    'PLN_GTA': 'plngta',\n",
    "    'GT_CURRENT': 'client_gt',\n",
    "    'GT_FUTURE': 'future_gt',\n",
    "    'RP_REQUEST': 'reporting_period'\n",
    "}, inplace=True\n",
    ")\n",
    "\n",
    "client_df.columns = [x.lower().replace(' ', '_') for x in client_df.columns]"
   ]
  },
  {
   "cell_type": "code",
   "execution_count": 27,
   "metadata": {},
   "outputs": [
    {
     "data": {
      "text/plain": [
       "1"
      ]
     },
     "execution_count": 27,
     "metadata": {},
     "output_type": "execute_result"
    }
   ],
   "source": [
    "# normalize the species, origin, tract, county, and state\n",
    "\n",
    "\n",
    "# first pull the associated tables from the DB\n",
    "for table in ['species', 'origin', 'tract', 'county', 'state']:\n",
    "    mapping_df = pd.read_sql(f\"SELECT * from {table}\", conn)\n",
    "    mapping_map = dict(zip(mapping_df.iloc[:, 0], mapping_df.iloc[:, 1]))\n",
    "    \n",
    "    # Check to make sure the value in client_df is appropriate (should be string for all of these)\n",
    "    client_df[f'{table}'] = client_df[f'{table}'].astype(str)\n",
    "\n",
    "    # lowercase the value from the client_df\n",
    "    client_df[f'{table}'] = client_df[f'{table}'].str.lower()\n",
    "    \n",
    "    # if client_df value not in table: update the sql table to include it\n",
    "    missing_values = client_df[~client_df[f'{table}'].isin(mapping_df[f'{table}'])]\n",
    "    if not missing_values.empty:\n",
    "        print(f\"New values in table: {table}\")\n",
    "        new_values = client_df[~client_df[f'{table}'].isin(mapping_df)]\n",
    "        new_values = new_values[[f\"{table}\"]].drop_duplicates()\n",
    "        max_uid = mapping_df[f'{table}_uid'].max()\n",
    "        new_values[f'{table}_uid'] = range(max_uid + 1, max_uid + 1 + (len(new_values)))\n",
    "        new_values.to_sql(f'{table}', conn, if_exists='append', index=False)\n",
    "        mapping_df = pd.concat([mapping_df, new_values])\n",
    "        mapping_map = dict(zip(mapping_df.iloc[:, 0], mapping_df.iloc[:, 1]))\n",
    "        \n",
    "        \n",
    "    # map the values to the table    \n",
    "    client_df[f\"{table}\"] = client_df[f\"{table}\"].map(mapping_map)\n",
    "\n",
    "\n",
    "client_df.to_sql('client_intake', conn, if_exists='append', index=False)\n",
    "    \n",
    "    \n",
    "\n",
    "\n"
   ]
  },
  {
   "cell_type": "markdown",
   "metadata": {},
   "source": [
    "### Work on the GA intake table"
   ]
  },
  {
   "cell_type": "code",
   "execution_count": null,
   "metadata": {},
   "outputs": [],
   "source": [
    "ga_df = df[\n",
    "    [\n",
    "        \"UNIQUE_ID\",\n",
    "        \"INTAKE_ID\",\n",
    "        \"GA_ACRES\",\n",
    "        \"PRE_GTA\",\n",
    "        \"PLN_GTA\",\n",
    "        'CLIENT_ACR'\n",
    "    ]\n",
    "].copy()\n",
    "\n",
    "ga_df['ga_gt'] = ga_df['GA_ACRES'] * (ga_df['PRE_GTA'] - ga_df['PLN_GTA'])\n",
    "ga_df['client_total'] = ga_df['CLIENT_ACR'] * (ga_df['PRE_GTA'] - ga_df['PLN_GTA'])\n",
    "\n",
    "ga_df.rename(columns={\n",
    "    'UNIQUE_ID': 'ga_uid',\n",
    "    'INTAKE_ID': 'intakeid',\n",
    "    'GA_ACRES': 'ga_acres'\n",
    "}, inplace=True\n",
    "             )\n",
    "\n",
    "ga_df['folderid'] = ga_df['intakeid']\n",
    "ga_df['total_gt'] = ga_df.apply(lambda x: max_value(x), axis=1)\n",
    "\n",
    "ga_df = ga_df[\n",
    "    [\n",
    "        'ga_uid',\n",
    "        'intakeid',\n",
    "        'folderid',\n",
    "        'ga_acres',\n",
    "        'ga_gt',\n",
    "        'total_gt'\n",
    "        ]\n",
    "    ]\n"
   ]
  },
  {
   "cell_type": "code",
   "execution_count": null,
   "metadata": {},
   "outputs": [],
   "source": []
  },
  {
   "cell_type": "code",
   "execution_count": null,
   "metadata": {},
   "outputs": [],
   "source": []
  },
  {
   "cell_type": "code",
   "execution_count": null,
   "metadata": {},
   "outputs": [],
   "source": []
  },
  {
   "cell_type": "code",
   "execution_count": null,
   "metadata": {},
   "outputs": [],
   "source": []
  },
  {
   "cell_type": "markdown",
   "metadata": {},
   "source": [
    "## Thoughts\n",
    "\n",
    "- I want to make sure the data going into the database is not already there\n",
    "- I want to make sure that the data in the data frame is of the correct type\n",
    "- I want to make sure that the data in the database is protected and not goign to get lost."
   ]
  },
  {
   "cell_type": "code",
   "execution_count": null,
   "metadata": {},
   "outputs": [],
   "source": [
    "client_df.to_sql('client_intake', conn, if_exists='append', index=False)"
   ]
  }
 ],
 "metadata": {
  "kernelspec": {
   "display_name": "postgres_python",
   "language": "python",
   "name": "python3"
  },
  "language_info": {
   "codemirror_mode": {
    "name": "ipython",
    "version": 3
   },
   "file_extension": ".py",
   "mimetype": "text/x-python",
   "name": "python",
   "nbconvert_exporter": "python",
   "pygments_lexer": "ipython3",
   "version": "3.11.6"
  }
 },
 "nbformat": 4,
 "nbformat_minor": 2
}
