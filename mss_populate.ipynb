{
 "cells": [
  {
   "cell_type": "code",
   "execution_count": 27,
   "metadata": {},
   "outputs": [],
   "source": [
    "import pandas as pd\n",
    "import psycopg2\n",
    "from sqlalchemy import create_engine, MetaData, text\n",
    "from smartsheet_dataframe import get_as_df"
   ]
  },
  {
   "cell_type": "code",
   "execution_count": 28,
   "metadata": {},
   "outputs": [],
   "source": [
    "# Storing Smartsheet information in variables\n",
    "shitz_token = \"wMvGniITjDFd7ClZPE44wtJGvZkM7Hg7mP7if\" #Bily's personal token to access G-A smartsheet data. Anyone can obtain their own token\n",
    "mssid = 3005704744265604 # The ID number that references the MSS sheet"
   ]
  },
  {
   "cell_type": "code",
   "execution_count": 29,
   "metadata": {},
   "outputs": [],
   "source": [
    "mss_df = get_as_df(type_='sheet',\n",
    "                  token=shitz_token,\n",
    "                  id_=mssid,\n",
    "                  )"
   ]
  },
  {
   "cell_type": "code",
   "execution_count": 30,
   "metadata": {},
   "outputs": [
    {
     "data": {
      "text/html": [
       "<div>\n",
       "<style scoped>\n",
       "    .dataframe tbody tr th:only-of-type {\n",
       "        vertical-align: middle;\n",
       "    }\n",
       "\n",
       "    .dataframe tbody tr th {\n",
       "        vertical-align: top;\n",
       "    }\n",
       "\n",
       "    .dataframe thead th {\n",
       "        text-align: right;\n",
       "    }\n",
       "</style>\n",
       "<table border=\"1\" class=\"dataframe\">\n",
       "  <thead>\n",
       "    <tr style=\"text-align: right;\">\n",
       "      <th></th>\n",
       "      <th>row_id</th>\n",
       "      <th>parent_id</th>\n",
       "      <th>IntakeID</th>\n",
       "      <th>FolderID</th>\n",
       "      <th>UniqueID</th>\n",
       "      <th>TicketID</th>\n",
       "      <th>Tract</th>\n",
       "      <th>CMP</th>\n",
       "      <th>Stand</th>\n",
       "      <th>Acres</th>\n",
       "      <th>...</th>\n",
       "      <th>Activity Implemented</th>\n",
       "      <th>Applied GA_ACRES</th>\n",
       "      <th>PstBA</th>\n",
       "      <th>PstTPA</th>\n",
       "      <th>PstGTA</th>\n",
       "      <th>RP Completed</th>\n",
       "      <th>Notes</th>\n",
       "      <th>Completed Date</th>\n",
       "      <th>Modified</th>\n",
       "      <th>Modified By</th>\n",
       "    </tr>\n",
       "  </thead>\n",
       "  <tbody>\n",
       "    <tr>\n",
       "      <th>0</th>\n",
       "      <td>6438718047686532</td>\n",
       "      <td></td>\n",
       "      <td>WRR240404</td>\n",
       "      <td>WRR240404</td>\n",
       "      <td>WRR240404TH02</td>\n",
       "      <td>WRR240404TH02</td>\n",
       "      <td>Mayhaw</td>\n",
       "      <td>122-1</td>\n",
       "      <td>15</td>\n",
       "      <td>55.0</td>\n",
       "      <td>...</td>\n",
       "      <td></td>\n",
       "      <td></td>\n",
       "      <td></td>\n",
       "      <td></td>\n",
       "      <td></td>\n",
       "      <td></td>\n",
       "      <td></td>\n",
       "      <td></td>\n",
       "      <td>2024-04-08T13:20:55Z</td>\n",
       "      <td></td>\n",
       "    </tr>\n",
       "    <tr>\n",
       "      <th>1</th>\n",
       "      <td>8918288567013252</td>\n",
       "      <td></td>\n",
       "      <td>WRR240404</td>\n",
       "      <td>WRR240404</td>\n",
       "      <td>WRR240404TH01</td>\n",
       "      <td>WRR240404TH01</td>\n",
       "      <td>Mayhaw</td>\n",
       "      <td>122-1</td>\n",
       "      <td>1</td>\n",
       "      <td>23.01</td>\n",
       "      <td>...</td>\n",
       "      <td></td>\n",
       "      <td></td>\n",
       "      <td></td>\n",
       "      <td></td>\n",
       "      <td></td>\n",
       "      <td></td>\n",
       "      <td></td>\n",
       "      <td></td>\n",
       "      <td>2024-04-08T13:20:55Z</td>\n",
       "      <td></td>\n",
       "    </tr>\n",
       "    <tr>\n",
       "      <th>2</th>\n",
       "      <td>3313610417934212</td>\n",
       "      <td></td>\n",
       "      <td>WRR240325</td>\n",
       "      <td>WRR240325</td>\n",
       "      <td>WRR240325BN01</td>\n",
       "      <td>WRR240325BN01</td>\n",
       "      <td>Telogia</td>\n",
       "      <td>18.0</td>\n",
       "      <td>1, 2, 3, 5, 9, 13, 15</td>\n",
       "      <td>240.1</td>\n",
       "      <td>...</td>\n",
       "      <td></td>\n",
       "      <td></td>\n",
       "      <td></td>\n",
       "      <td></td>\n",
       "      <td></td>\n",
       "      <td></td>\n",
       "      <td></td>\n",
       "      <td></td>\n",
       "      <td>2024-04-03T19:32:47Z</td>\n",
       "      <td></td>\n",
       "    </tr>\n",
       "    <tr>\n",
       "      <th>3</th>\n",
       "      <td>8625293074009988</td>\n",
       "      <td></td>\n",
       "      <td>WRR240318</td>\n",
       "      <td>WRR240318</td>\n",
       "      <td>WRR240318BN02</td>\n",
       "      <td>WRR240318BN02</td>\n",
       "      <td>Telogia</td>\n",
       "      <td>42, 43, 44</td>\n",
       "      <td>6, 7, 9, 1, 3, 4, 8</td>\n",
       "      <td>1493.15</td>\n",
       "      <td>...</td>\n",
       "      <td></td>\n",
       "      <td></td>\n",
       "      <td></td>\n",
       "      <td></td>\n",
       "      <td></td>\n",
       "      <td></td>\n",
       "      <td></td>\n",
       "      <td></td>\n",
       "      <td>2024-04-03T19:32:47Z</td>\n",
       "      <td></td>\n",
       "    </tr>\n",
       "    <tr>\n",
       "      <th>4</th>\n",
       "      <td>7021399277473668</td>\n",
       "      <td></td>\n",
       "      <td>WRR240318</td>\n",
       "      <td>WRR240318</td>\n",
       "      <td>WRR240318BN01</td>\n",
       "      <td>WRR240318BN01</td>\n",
       "      <td>Telogia</td>\n",
       "      <td>18, 20</td>\n",
       "      <td>6, 7, 12, 11</td>\n",
       "      <td>365.07</td>\n",
       "      <td>...</td>\n",
       "      <td></td>\n",
       "      <td></td>\n",
       "      <td></td>\n",
       "      <td></td>\n",
       "      <td></td>\n",
       "      <td></td>\n",
       "      <td></td>\n",
       "      <td></td>\n",
       "      <td>2024-04-03T19:32:47Z</td>\n",
       "      <td></td>\n",
       "    </tr>\n",
       "  </tbody>\n",
       "</table>\n",
       "<p>5 rows × 45 columns</p>\n",
       "</div>"
      ],
      "text/plain": [
       "             row_id parent_id   IntakeID   FolderID       UniqueID  \\\n",
       "0  6438718047686532            WRR240404  WRR240404  WRR240404TH02   \n",
       "1  8918288567013252            WRR240404  WRR240404  WRR240404TH01   \n",
       "2  3313610417934212            WRR240325  WRR240325  WRR240325BN01   \n",
       "3  8625293074009988            WRR240318  WRR240318  WRR240318BN02   \n",
       "4  7021399277473668            WRR240318  WRR240318  WRR240318BN01   \n",
       "\n",
       "        TicketID    Tract         CMP                  Stand    Acres  ...  \\\n",
       "0  WRR240404TH02   Mayhaw       122-1                     15     55.0  ...   \n",
       "1  WRR240404TH01   Mayhaw       122-1                      1    23.01  ...   \n",
       "2  WRR240325BN01  Telogia        18.0  1, 2, 3, 5, 9, 13, 15    240.1  ...   \n",
       "3  WRR240318BN02  Telogia  42, 43, 44    6, 7, 9, 1, 3, 4, 8  1493.15  ...   \n",
       "4  WRR240318BN01  Telogia      18, 20           6, 7, 12, 11   365.07  ...   \n",
       "\n",
       "  Activity Implemented Applied GA_ACRES PstBA PstTPA PstGTA RP Completed  \\\n",
       "0                                                                          \n",
       "1                                                                          \n",
       "2                                                                          \n",
       "3                                                                          \n",
       "4                                                                          \n",
       "\n",
       "  Notes Completed Date              Modified Modified By  \n",
       "0                       2024-04-08T13:20:55Z              \n",
       "1                       2024-04-08T13:20:55Z              \n",
       "2                       2024-04-03T19:32:47Z              \n",
       "3                       2024-04-03T19:32:47Z              \n",
       "4                       2024-04-03T19:32:47Z              \n",
       "\n",
       "[5 rows x 45 columns]"
      ]
     },
     "execution_count": 30,
     "metadata": {},
     "output_type": "execute_result"
    }
   ],
   "source": [
    "mss_df.head()"
   ]
  },
  {
   "cell_type": "code",
   "execution_count": 31,
   "metadata": {},
   "outputs": [
    {
     "data": {
      "text/plain": [
       "Index(['row_id', 'parent_id', 'IntakeID', 'FolderID', 'UniqueID', 'TicketID',\n",
       "       'Tract', 'CMP', 'Stand', 'Acres', 'Age', 'GA_ACRES', 'County', 'State',\n",
       "       'Plot Numbers', 'Status', 'Guidance', 'Expiration', 'GuidanceProvider',\n",
       "       'Scheduled', 'Stand Type', 'Origin', 'PreBA', 'PreTPA', 'PreGTA',\n",
       "       'PlnBA', 'PlnTPA', 'PlnGTA', 'Client GT', 'GA GT',\n",
       "       'Current RP Expected GT', 'Future GT', 'Total GT', 'Timeframe',\n",
       "       'Reporting Period', 'Activity Implemented', 'Applied GA_ACRES', 'PstBA',\n",
       "       'PstTPA', 'PstGTA', 'RP Completed', 'Notes', 'Completed Date',\n",
       "       'Modified', 'Modified By'],\n",
       "      dtype='object')"
      ]
     },
     "execution_count": 31,
     "metadata": {},
     "output_type": "execute_result"
    }
   ],
   "source": [
    "mss_df.columns"
   ]
  },
  {
   "cell_type": "code",
   "execution_count": 32,
   "metadata": {},
   "outputs": [
    {
     "data": {
      "text/plain": [
       "586"
      ]
     },
     "execution_count": 32,
     "metadata": {},
     "output_type": "execute_result"
    }
   ],
   "source": [
    "len(mss_df.isna())"
   ]
  },
  {
   "cell_type": "code",
   "execution_count": 33,
   "metadata": {},
   "outputs": [
    {
     "data": {
      "text/plain": [
       "586"
      ]
     },
     "execution_count": 33,
     "metadata": {},
     "output_type": "execute_result"
    }
   ],
   "source": [
    "len(mss_df)"
   ]
  },
  {
   "cell_type": "code",
   "execution_count": 34,
   "metadata": {},
   "outputs": [],
   "source": [
    "# Grab just the needed columns\n",
    "client_preimp = mss_df[['FolderID',\n",
    "                        'UniqueID',\n",
    "                        'Tract',\n",
    "                        'CMP',\n",
    "                        'Stand',\n",
    "                        'Acres',\n",
    "                        'Age',\n",
    "                        'County',\n",
    "                        'State',\n",
    "                        'Stand Type',\n",
    "                        'Origin',\n",
    "                        'PreBA',\n",
    "                        'PreTPA',\n",
    "                        'PreGTA',\n",
    "                        'PlnBA',\n",
    "                        'PlnTPA',\n",
    "                        'PlnGTA',\n",
    "                        'Client GT',\n",
    "                        'Future GT',\n",
    "                        'Reporting Period',\n",
    "                        'Notes']].copy()\n",
    "client_preimp = client_preimp.rename(columns={'FolderID':'folderid',\n",
    "                                              'UniqueID':'uniqueid',\n",
    "                                              'Tract': 'tract',\n",
    "                                              'CMP': 'comp',\n",
    "                                              'Stand': 'stand',\n",
    "                                              'Acres': 'client_acres',\n",
    "                                              'Age': 'age',\n",
    "                                              'County': 'county',\n",
    "                                              'State': 'state',\n",
    "                                              'Stand Type': 'species',\n",
    "                                              'Origin': 'origin',\n",
    "                                              'PreBA': 'pre_ba',\n",
    "                                              'PreTPA': 'pre_tpa',\n",
    "                                              'PreGTA': 'pre_gta',\n",
    "                                              'PlnBA': 'planned_ba',\n",
    "                                              'PlnTPA': 'planned_tpa',\n",
    "                                              'PlnGTA': 'planned_gta',\n",
    "                                              'Client GT': 'client_gt_current',\n",
    "                                              'Future GT': 'client_gt_future',\n",
    "                                              'Reporting Period': 'rp_requested',\n",
    "                                              'Notes': 'notes'})"
   ]
  },
  {
   "cell_type": "code",
   "execution_count": 35,
   "metadata": {},
   "outputs": [],
   "source": [
    "# Take out non-harvest activities\n",
    "non_activity = ['BN', 'MW', 'SP', 'FT', 'UE', 'WP']\n",
    "client_preimp = client_preimp.loc[~client_preimp['uniqueid'].str.contains('|'.join(non_activity), case=False, na=False)]"
   ]
  },
  {
   "cell_type": "code",
   "execution_count": 36,
   "metadata": {},
   "outputs": [
    {
     "data": {
      "text/html": [
       "<div>\n",
       "<style scoped>\n",
       "    .dataframe tbody tr th:only-of-type {\n",
       "        vertical-align: middle;\n",
       "    }\n",
       "\n",
       "    .dataframe tbody tr th {\n",
       "        vertical-align: top;\n",
       "    }\n",
       "\n",
       "    .dataframe thead th {\n",
       "        text-align: right;\n",
       "    }\n",
       "</style>\n",
       "<table border=\"1\" class=\"dataframe\">\n",
       "  <thead>\n",
       "    <tr style=\"text-align: right;\">\n",
       "      <th></th>\n",
       "      <th>folderid</th>\n",
       "      <th>uniqueid</th>\n",
       "      <th>tract</th>\n",
       "      <th>comp</th>\n",
       "      <th>stand</th>\n",
       "      <th>client_acres</th>\n",
       "      <th>age</th>\n",
       "      <th>county</th>\n",
       "      <th>state</th>\n",
       "      <th>species</th>\n",
       "      <th>...</th>\n",
       "      <th>pre_ba</th>\n",
       "      <th>pre_tpa</th>\n",
       "      <th>pre_gta</th>\n",
       "      <th>planned_ba</th>\n",
       "      <th>planned_tpa</th>\n",
       "      <th>planned_gta</th>\n",
       "      <th>client_gt_current</th>\n",
       "      <th>client_gt_future</th>\n",
       "      <th>rp_requested</th>\n",
       "      <th>notes</th>\n",
       "    </tr>\n",
       "  </thead>\n",
       "  <tbody>\n",
       "  </tbody>\n",
       "</table>\n",
       "<p>0 rows × 21 columns</p>\n",
       "</div>"
      ],
      "text/plain": [
       "Empty DataFrame\n",
       "Columns: [folderid, uniqueid, tract, comp, stand, client_acres, age, county, state, species, origin, pre_ba, pre_tpa, pre_gta, planned_ba, planned_tpa, planned_gta, client_gt_current, client_gt_future, rp_requested, notes]\n",
       "Index: []\n",
       "\n",
       "[0 rows x 21 columns]"
      ]
     },
     "execution_count": 36,
     "metadata": {},
     "output_type": "execute_result"
    }
   ],
   "source": [
    "client_preimp[client_preimp.isna().any(axis=1)]"
   ]
  },
  {
   "cell_type": "code",
   "execution_count": 37,
   "metadata": {},
   "outputs": [],
   "source": [
    "client_preimp['client_acres'] = pd.to_numeric(client_preimp['client_acres'], errors='coerce')\n",
    "client_preimp['age'] = pd.to_numeric(client_preimp['age'], errors='coerce')\n",
    "client_preimp['pre_ba'] = pd.to_numeric(client_preimp['pre_ba'], errors='coerce')\n",
    "client_preimp['pre_tpa'] = pd.to_numeric(client_preimp['pre_tpa'], errors='coerce')\n",
    "client_preimp['pre_gta'] = pd.to_numeric(client_preimp['pre_gta'], errors='coerce')\n",
    "client_preimp['planned_ba'] = pd.to_numeric(client_preimp['planned_ba'], errors='coerce')\n",
    "client_preimp['planned_tpa'] = pd.to_numeric(client_preimp['planned_tpa'], errors='coerce')\n",
    "client_preimp['planned_gta'] = pd.to_numeric(client_preimp['planned_gta'], errors='coerce')\n",
    "client_preimp['client_gt_current'] = pd.to_numeric(client_preimp['client_gt_current'], errors='coerce')\n",
    "client_preimp['client_gt_future'] = pd.to_numeric(client_preimp['client_gt_future'], errors='coerce')\n",
    "client_preimp['rp_requested'] = pd.to_numeric(client_preimp['rp_requested'], errors='coerce')"
   ]
  },
  {
   "cell_type": "code",
   "execution_count": 38,
   "metadata": {},
   "outputs": [],
   "source": [
    "# set null values to -1\n",
    "client_preimp = client_preimp.fillna(-1)"
   ]
  },
  {
   "cell_type": "code",
   "execution_count": 39,
   "metadata": {},
   "outputs": [],
   "source": [
    "# setup db connection\n",
    "db_host = 'localhost'\n",
    "db_name = 'HarvestManagementTrial'\n",
    "db_user = 'postgres'\n",
    "db_password = 'root'\n",
    "\n",
    "connection_string = f'postgresql://{db_user}:{db_password}@{db_host}/{db_name}'\n",
    "\n",
    "# Create the SQLAlchemy engine\n",
    "engine = create_engine(connection_string)"
   ]
  },
  {
   "cell_type": "code",
   "execution_count": 40,
   "metadata": {},
   "outputs": [
    {
     "data": {
      "text/plain": [
       "497"
      ]
     },
     "execution_count": 40,
     "metadata": {},
     "output_type": "execute_result"
    }
   ],
   "source": [
    "client_preimp.to_sql('client_table_preimp', engine, if_exists='append', index=False)"
   ]
  },
  {
   "cell_type": "code",
   "execution_count": 42,
   "metadata": {},
   "outputs": [],
   "source": [
    "engine.dispose()"
   ]
  },
  {
   "cell_type": "code",
   "execution_count": null,
   "metadata": {},
   "outputs": [],
   "source": []
  }
 ],
 "metadata": {
  "kernelspec": {
   "display_name": "postgres_python",
   "language": "python",
   "name": "python3"
  },
  "language_info": {
   "codemirror_mode": {
    "name": "ipython",
    "version": 3
   },
   "file_extension": ".py",
   "mimetype": "text/x-python",
   "name": "python",
   "nbconvert_exporter": "python",
   "pygments_lexer": "ipython3",
   "version": "3.11.6"
  }
 },
 "nbformat": 4,
 "nbformat_minor": 2
}
