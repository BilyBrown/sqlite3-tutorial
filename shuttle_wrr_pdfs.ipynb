{
 "cells": [
  {
   "cell_type": "code",
   "execution_count": 10,
   "metadata": {},
   "outputs": [],
   "source": [
    "import os\n",
    "import shutil\n",
    "import pandas as pd\n",
    "from smartsheet_dataframe import get_as_df"
   ]
  },
  {
   "cell_type": "code",
   "execution_count": 11,
   "metadata": {},
   "outputs": [],
   "source": [
    "# Storing Smartsheet information in variables\n",
    "shitz_token = \"wMvGniITjDFd7ClZPE44wtJGvZkM7Hg7mP7if\" #Bily's personal token to access G-A smartsheet data. Anyone can obtain their own token\n",
    "fhaid = 4523924143794052 # The ID number that references the FHA sheet\n",
    "mssid = 3005704744265604 # The ID number that references the MSS sheet\n",
    "\n",
    "# Creating the FHA and MSS dataframes\n",
    "fha_df = get_as_df(type_='sheet',\n",
    "                  token=shitz_token,\n",
    "                  id_=fhaid)\n",
    "\n",
    "mss_df = get_as_df(type_='sheet',\n",
    "                  token=shitz_token,\n",
    "                  id_=mssid)\n",
    "# Get only the WRR items\n",
    "wrr_df = mss_df.loc[mss_df['UniqueID'].str.contains(\"WRR\")].copy()"
   ]
  },
  {
   "cell_type": "markdown",
   "metadata": {},
   "source": [
    "# Shuttle WRR In Process PDFs from \"old\" ticketid folder structure to \"new\" folder structure\n",
    "## 24.11.06\n",
    "## Steps:\n",
    "1. Associate old TIDs to New TIDs\n",
    "2. Locate folders/pdfs based on old TIDs\n",
    "3. Transfer folders/pdfs to new TIDs\n",
    "    - How to manage aggregation where it didn't exist before? (multiple week 1s for example)\n",
    "4. Upload to G-drive"
   ]
  },
  {
   "cell_type": "code",
   "execution_count": 65,
   "metadata": {},
   "outputs": [],
   "source": [
    "# Transfer function from the WAR project\n",
    "# WAR didn't have any new aggregations of activities already in process.\n",
    "# WRR does - so I expect to have issues of multiple week labels\n",
    "\n",
    "def copy_pdfs_to_temp(src_directory, temp_directory):\n",
    "    os.makedirs(temp_directory, exist_ok=True)\n",
    "    \n",
    "    for week_folder in os.listdir(src_directory):\n",
    "        week_path = os.path.join(src_directory, week_folder)\n",
    "        \n",
    "        if os.path.isdir(week_path) and week_folder.startswith(\"Week\"):\n",
    "            new_week_path = os.path.join(temp_directory, week_folder)\n",
    "            os.makedirs(new_week_path, exist_ok=True)\n",
    "            \n",
    "            for file_name in os.listdir(week_path):\n",
    "                if file_name.lower().endswith(\"pdf\"):\n",
    "                    file_path = os.path.join(week_path, file_name)\n",
    "                    shutil.copy(file_path, new_week_path)\n",
    "                    print(f\"Copied: {file_path} to {new_week_path}\")"
   ]
  },
  {
   "cell_type": "code",
   "execution_count": 13,
   "metadata": {},
   "outputs": [],
   "source": [
    "# Get lookup for Old Ticket ID to Unique ID\n",
    "inprog_wrr_df = wrr_df[wrr_df['Status'].isin(['IN PROCESS', 'POST'])].copy()\n",
    "inprog_wrr_oldTID = inprog_wrr_df.groupby(['TicketID'])['UniqueID'].apply(list).reset_index()\n",
    "inprog_wrr_oldDict = dict(zip(inprog_wrr_oldTID['TicketID'], inprog_wrr_oldTID['UniqueID']))"
   ]
  },
  {
   "cell_type": "code",
   "execution_count": 14,
   "metadata": {},
   "outputs": [],
   "source": [
    "# Get lookup for New Ticket ID from other notebook\n",
    "new_tid_df = pd.read_excel(r\"./new_tid.xlsx\")"
   ]
  },
  {
   "cell_type": "code",
   "execution_count": 15,
   "metadata": {},
   "outputs": [
    {
     "data": {
      "text/plain": [
       "['WRR230829CC03',\n",
       " 'WRR230829CC02',\n",
       " 'WRR230829CC01',\n",
       " 'WRR230829TH01',\n",
       " 'WRR230829TH02',\n",
       " 'WRR231107CC01',\n",
       " 'WRR231107CC02',\n",
       " 'WRR231107CC03',\n",
       " 'WRR231107TH01',\n",
       " 'WRR231107TT01',\n",
       " 'WRR240101TH01',\n",
       " 'WRR240101TT01',\n",
       " 'WRR240919TT01',\n",
       " 'WRR240919CC06',\n",
       " 'WRR240101CC03',\n",
       " 'WRR240101CC02',\n",
       " 'WRR240101CC01',\n",
       " 'WRR240404TH01',\n",
       " 'WRR240404TH02',\n",
       " 'WRR240709CC03',\n",
       " 'WRR240709CC02',\n",
       " 'WRR240709CC01',\n",
       " 'WRR240802TH01',\n",
       " 'WRR240802TH03']"
      ]
     },
     "execution_count": 15,
     "metadata": {},
     "output_type": "execute_result"
    }
   ],
   "source": [
    "# Get the list of Unique IDs we need to care about from the old_tid dict\n",
    "uids = []\n",
    "for v in inprog_wrr_oldDict.values():\n",
    "    if len(v) > 1:\n",
    "        for id in v:\n",
    "            uids.append(id)\n",
    "    else:\n",
    "        uids.append(v[0])\n",
    "    \n",
    "uids"
   ]
  },
  {
   "cell_type": "code",
   "execution_count": 22,
   "metadata": {},
   "outputs": [
    {
     "data": {
      "text/html": [
       "<div>\n",
       "<style scoped>\n",
       "    .dataframe tbody tr th:only-of-type {\n",
       "        vertical-align: middle;\n",
       "    }\n",
       "\n",
       "    .dataframe tbody tr th {\n",
       "        vertical-align: top;\n",
       "    }\n",
       "\n",
       "    .dataframe thead th {\n",
       "        text-align: right;\n",
       "    }\n",
       "</style>\n",
       "<table border=\"1\" class=\"dataframe\">\n",
       "  <thead>\n",
       "    <tr style=\"text-align: right;\">\n",
       "      <th></th>\n",
       "      <th>TicketID</th>\n",
       "      <th>UniqueID</th>\n",
       "    </tr>\n",
       "  </thead>\n",
       "  <tbody>\n",
       "    <tr>\n",
       "      <th>0</th>\n",
       "      <td>WRR230829CCXX</td>\n",
       "      <td>[WRR230829CC03, WRR230829CC02, WRR230829CC01]</td>\n",
       "    </tr>\n",
       "    <tr>\n",
       "      <th>1</th>\n",
       "      <td>WRR230829TH01</td>\n",
       "      <td>[WRR230829TH01]</td>\n",
       "    </tr>\n",
       "    <tr>\n",
       "      <th>2</th>\n",
       "      <td>WRR230829TH02</td>\n",
       "      <td>[WRR230829TH02]</td>\n",
       "    </tr>\n",
       "    <tr>\n",
       "      <th>3</th>\n",
       "      <td>WRR231107CC01</td>\n",
       "      <td>[WRR231107CC01]</td>\n",
       "    </tr>\n",
       "    <tr>\n",
       "      <th>4</th>\n",
       "      <td>WRR231107CC02</td>\n",
       "      <td>[WRR231107CC02]</td>\n",
       "    </tr>\n",
       "    <tr>\n",
       "      <th>5</th>\n",
       "      <td>WRR231107CC03</td>\n",
       "      <td>[WRR231107CC03]</td>\n",
       "    </tr>\n",
       "    <tr>\n",
       "      <th>6</th>\n",
       "      <td>WRR231107TH01</td>\n",
       "      <td>[WRR231107TH01]</td>\n",
       "    </tr>\n",
       "    <tr>\n",
       "      <th>7</th>\n",
       "      <td>WRR231107TT01</td>\n",
       "      <td>[WRR231107TT01]</td>\n",
       "    </tr>\n",
       "    <tr>\n",
       "      <th>8</th>\n",
       "      <td>WRR240101TH01</td>\n",
       "      <td>[WRR240101TH01]</td>\n",
       "    </tr>\n",
       "    <tr>\n",
       "      <th>9</th>\n",
       "      <td>WRR240101TT01</td>\n",
       "      <td>[WRR240101TT01]</td>\n",
       "    </tr>\n",
       "    <tr>\n",
       "      <th>10</th>\n",
       "      <td>WRR240101XXXX</td>\n",
       "      <td>[WRR240919TT01, WRR240919CC06, WRR240101CC03, ...</td>\n",
       "    </tr>\n",
       "    <tr>\n",
       "      <th>11</th>\n",
       "      <td>WRR240404TH01</td>\n",
       "      <td>[WRR240404TH01]</td>\n",
       "    </tr>\n",
       "    <tr>\n",
       "      <th>12</th>\n",
       "      <td>WRR240404TH02</td>\n",
       "      <td>[WRR240404TH02]</td>\n",
       "    </tr>\n",
       "    <tr>\n",
       "      <th>13</th>\n",
       "      <td>WRR240709CCXX</td>\n",
       "      <td>[WRR240709CC03, WRR240709CC02, WRR240709CC01]</td>\n",
       "    </tr>\n",
       "    <tr>\n",
       "      <th>14</th>\n",
       "      <td>WRR240802TH01</td>\n",
       "      <td>[WRR240802TH01]</td>\n",
       "    </tr>\n",
       "    <tr>\n",
       "      <th>15</th>\n",
       "      <td>WRR240802TH03</td>\n",
       "      <td>[WRR240802TH03]</td>\n",
       "    </tr>\n",
       "  </tbody>\n",
       "</table>\n",
       "</div>"
      ],
      "text/plain": [
       "         TicketID                                           UniqueID\n",
       "0   WRR230829CCXX      [WRR230829CC03, WRR230829CC02, WRR230829CC01]\n",
       "1   WRR230829TH01                                    [WRR230829TH01]\n",
       "2   WRR230829TH02                                    [WRR230829TH02]\n",
       "3   WRR231107CC01                                    [WRR231107CC01]\n",
       "4   WRR231107CC02                                    [WRR231107CC02]\n",
       "5   WRR231107CC03                                    [WRR231107CC03]\n",
       "6   WRR231107TH01                                    [WRR231107TH01]\n",
       "7   WRR231107TT01                                    [WRR231107TT01]\n",
       "8   WRR240101TH01                                    [WRR240101TH01]\n",
       "9   WRR240101TT01                                    [WRR240101TT01]\n",
       "10  WRR240101XXXX  [WRR240919TT01, WRR240919CC06, WRR240101CC03, ...\n",
       "11  WRR240404TH01                                    [WRR240404TH01]\n",
       "12  WRR240404TH02                                    [WRR240404TH02]\n",
       "13  WRR240709CCXX      [WRR240709CC03, WRR240709CC02, WRR240709CC01]\n",
       "14  WRR240802TH01                                    [WRR240802TH01]\n",
       "15  WRR240802TH03                                    [WRR240802TH03]"
      ]
     },
     "execution_count": 22,
     "metadata": {},
     "output_type": "execute_result"
    }
   ],
   "source": [
    "inprog_wrr_oldTID"
   ]
  },
  {
   "cell_type": "code",
   "execution_count": 36,
   "metadata": {},
   "outputs": [
    {
     "name": "stdout",
     "output_type": "stream",
     "text": [
      "WRR231107CC02 WRR231107CC02 WRR231107XXXX\n",
      "WRR231107TT01 WRR231107TT01 WRR231107XXXX\n"
     ]
    }
   ],
   "source": [
    "for id in uids:\n",
    "    new_tid = new_tid_df.loc[new_tid_df['UniqueID'] == id, 'TicketID'].values[0]\n",
    "    old_tid = wrr_df.loc[wrr_df['UniqueID'] == id, 'TicketID'].values[0]\n",
    "    if old_tid != new_tid:\n",
    "        print(id, old_tid, new_tid)"
   ]
  },
  {
   "cell_type": "markdown",
   "metadata": {},
   "source": [
    "These two will be a bit of a pain, but if it comes down to it we can just do that by hand"
   ]
  },
  {
   "cell_type": "markdown",
   "metadata": {},
   "source": [
    "### Let's Think\n",
    "\n",
    "-I have a list of unique ids that have an active harvest management.\n",
    "-I have a dictionary that ties this list to an old tid where the pdfs are stored\n",
    "-I have a dataframe that ties this list to the new tid that will be the naming convention of the new location for the pdfs\n",
    "\n",
    "Todo:\n",
    "- Get list of old TID\n",
    "- Get folder location of old TID\n",
    "- Find associated UID\n",
    "- Find new TID based on UID\n",
    "- Create folder based on new TID\n",
    "  - For our problem children maybe use the UniqueID to separate them?\n",
    "    - What does that look like?\n",
    "      - If New TID has 2 old TID associated then: uid folder names?\n",
    "- Move over all pdfs"
   ]
  },
  {
   "cell_type": "code",
   "execution_count": 38,
   "metadata": {},
   "outputs": [],
   "source": [
    "old_tid_list = []\n",
    "for id in uids:\n",
    "    old_tid = wrr_df.loc[wrr_df['UniqueID'] == id, 'TicketID'].values[0]\n",
    "    old_tid_list.append(old_tid)"
   ]
  },
  {
   "cell_type": "code",
   "execution_count": 39,
   "metadata": {},
   "outputs": [
    {
     "data": {
      "text/plain": [
       "['WRR230829CCXX',\n",
       " 'WRR230829CCXX',\n",
       " 'WRR230829CCXX',\n",
       " 'WRR230829TH01',\n",
       " 'WRR230829TH02',\n",
       " 'WRR231107CC01',\n",
       " 'WRR231107CC02',\n",
       " 'WRR231107CC03',\n",
       " 'WRR231107TH01',\n",
       " 'WRR231107TT01',\n",
       " 'WRR240101TH01',\n",
       " 'WRR240101TT01',\n",
       " 'WRR240101XXXX',\n",
       " 'WRR240101XXXX',\n",
       " 'WRR240101XXXX',\n",
       " 'WRR240101XXXX',\n",
       " 'WRR240101XXXX',\n",
       " 'WRR240404TH01',\n",
       " 'WRR240404TH02',\n",
       " 'WRR240709CCXX',\n",
       " 'WRR240709CCXX',\n",
       " 'WRR240709CCXX',\n",
       " 'WRR240802TH01',\n",
       " 'WRR240802TH03']"
      ]
     },
     "execution_count": 39,
     "metadata": {},
     "output_type": "execute_result"
    }
   ],
   "source": [
    "old_tid_list"
   ]
  },
  {
   "cell_type": "code",
   "execution_count": 68,
   "metadata": {},
   "outputs": [
    {
     "name": "stdout",
     "output_type": "stream",
     "text": [
      "moving from: WRR231107CC01 to: WRR231107CC01\n",
      "Copied: P:\\Temp\\Intern\\MillTixDataEntry\\WRR231107CC01\\Week01\\Mayhaw Settlement WE 12.23.2023.pdf to C:\\Users\\bbrown\\OneDrive - Green Assets\\Desktop\\tmp\\wrr\\WRR231107CC01\\Week01\n",
      "Copied: P:\\Temp\\Intern\\MillTixDataEntry\\WRR231107CC01\\Week02\\1Mayhaw Settlement WE 12.30.2023 wk 21.pdf to C:\\Users\\bbrown\\OneDrive - Green Assets\\Desktop\\tmp\\wrr\\WRR231107CC01\\Week02\n",
      "Copied: P:\\Temp\\Intern\\MillTixDataEntry\\WRR231107CC01\\Week03\\1W19 Mayhaw Settlement WE 12.16.2023.pdf to C:\\Users\\bbrown\\OneDrive - Green Assets\\Desktop\\tmp\\wrr\\WRR231107CC01\\Week03\n",
      "Copied: P:\\Temp\\Intern\\MillTixDataEntry\\WRR231107CC01\\Week03\\W19 Mayhaw 121-1 Stand 5 WE 12.16.2023.pdf to C:\\Users\\bbrown\\OneDrive - Green Assets\\Desktop\\tmp\\wrr\\WRR231107CC01\\Week03\n",
      "moving from: WRR231107TT01 to: WRR231107XXXX\n",
      "Copied: P:\\Temp\\Intern\\MillTixDataEntry\\WRR231107TT01\\Week01\\Updated Mayhaw Settlement WE 06.29.24.pdf to C:\\Users\\bbrown\\OneDrive - Green Assets\\Desktop\\tmp\\wrr\\WRR231107XXXX\\Week01\n",
      "Copied: P:\\Temp\\Intern\\MillTixDataEntry\\WRR231107TT01\\Week02\\Mayhaw 122-1 ST 8 WE 07.06.24 ALl_01.pdf to C:\\Users\\bbrown\\OneDrive - Green Assets\\Desktop\\tmp\\wrr\\WRR231107XXXX\\Week02\n",
      "moving from: WRR240802TH01 to: WRR240802TH01\n",
      "moving from: WRR230829CCXX to: WRR230829CCXX\n",
      "Copied: P:\\Temp\\Intern\\MillTixDataEntry\\WRR230829CCXX\\Week01\\Mayhaw Settlement WE 10.07.2023_wk8.pdf to C:\\Users\\bbrown\\OneDrive - Green Assets\\Desktop\\tmp\\wrr\\WRR230829CCXX\\Week01\n",
      "Copied: P:\\Temp\\Intern\\MillTixDataEntry\\WRR230829CCXX\\Week02\\Mayhaw Settlement WE 10.14.2023 (1).pdf to C:\\Users\\bbrown\\OneDrive - Green Assets\\Desktop\\tmp\\wrr\\WRR230829CCXX\\Week02\n",
      "Copied: P:\\Temp\\Intern\\MillTixDataEntry\\WRR230829CCXX\\Week03\\FIXED Mayhaw Settlement WE 10.21.2023..pdf to C:\\Users\\bbrown\\OneDrive - Green Assets\\Desktop\\tmp\\wrr\\WRR230829CCXX\\Week03\n",
      "Copied: P:\\Temp\\Intern\\MillTixDataEntry\\WRR230829CCXX\\Week04\\Mayhaw Settlement We 10.28.2023 (3).pdf to C:\\Users\\bbrown\\OneDrive - Green Assets\\Desktop\\tmp\\wrr\\WRR230829CCXX\\Week04\n",
      "Copied: P:\\Temp\\Intern\\MillTixDataEntry\\WRR230829CCXX\\Week05\\Mayhaw Settlement WE 11.04.2023 (1).pdf to C:\\Users\\bbrown\\OneDrive - Green Assets\\Desktop\\tmp\\wrr\\WRR230829CCXX\\Week05\n",
      "Copied: P:\\Temp\\Intern\\MillTixDataEntry\\WRR230829CCXX\\Week06\\Mayhaw Settlement WE 11.11.2023.pdf to C:\\Users\\bbrown\\OneDrive - Green Assets\\Desktop\\tmp\\wrr\\WRR230829CCXX\\Week06\n",
      "Copied: P:\\Temp\\Intern\\MillTixDataEntry\\WRR230829CCXX\\Week07\\Mayhaw Settlement WE 11.25.20231.pdf to C:\\Users\\bbrown\\OneDrive - Green Assets\\Desktop\\tmp\\wrr\\WRR230829CCXX\\Week07\n",
      "Copied: P:\\Temp\\Intern\\MillTixDataEntry\\WRR230829CCXX\\Week08\\W26 Updated Mayhaw Settlement WE 02.03.24.pdf to C:\\Users\\bbrown\\OneDrive - Green Assets\\Desktop\\tmp\\wrr\\WRR230829CCXX\\Week08\n",
      "moving from: WRR231107TH01 to: WRR231107TH01\n",
      "Copied: P:\\Temp\\Intern\\MillTixDataEntry\\WRR231107TH01\\Week01\\Mayhaw Settlement WE 01.06.2024 wk 22.pdf to C:\\Users\\bbrown\\OneDrive - Green Assets\\Desktop\\tmp\\wrr\\WRR231107TH01\\Week01\n",
      "moving from: WRR240802TH03 to: WRR240802TH03\n",
      "moving from: WRR240101TH01 to: WRR240101TH01\n",
      "Copied: P:\\Temp\\Intern\\MillTixDataEntry\\WRR240101TH01\\Week01\\W8 Updated Mayhaw WE 08.17.24._1.pdf to C:\\Users\\bbrown\\OneDrive - Green Assets\\Desktop\\tmp\\wrr\\WRR240101TH01\\Week01\n",
      "moving from: WRR240404TH01 to: WRR240404TH01\n",
      "Copied: P:\\Temp\\Intern\\MillTixDataEntry\\WRR240404TH01\\Week01\\W6_Updated_Mayhaw 122-1 ST 1 WE 08.03.24..pdf to C:\\Users\\bbrown\\OneDrive - Green Assets\\Desktop\\tmp\\wrr\\WRR240404TH01\\Week01\n",
      "moving from: WRR240709CCXX to: WRR240709CCXX\n",
      "moving from: WRR230829TH01 to: WRR230829TH01\n",
      "Copied: P:\\Temp\\Intern\\MillTixDataEntry\\WRR230829TH01\\Week01\\FIXED Mayhaw Settlement WE 10.21.2023.pdf to C:\\Users\\bbrown\\OneDrive - Green Assets\\Desktop\\tmp\\wrr\\WRR230829TH01\\Week01\n",
      "Copied: P:\\Temp\\Intern\\MillTixDataEntry\\WRR230829TH01\\Week03\\Mayhaw Settlement WE 11.04.2023 (2).pdf to C:\\Users\\bbrown\\OneDrive - Green Assets\\Desktop\\tmp\\wrr\\WRR230829TH01\\Week03\n",
      "Copied: P:\\Temp\\Intern\\MillTixDataEntry\\WRR230829TH01\\Week04\\1Mayhaw Settlement WE 11.25.2023.pdf to C:\\Users\\bbrown\\OneDrive - Green Assets\\Desktop\\tmp\\wrr\\WRR230829TH01\\Week04\n",
      "Copied: P:\\Temp\\Intern\\MillTixDataEntry\\WRR230829TH01\\Week04\\Tix.pdf to C:\\Users\\bbrown\\OneDrive - Green Assets\\Desktop\\tmp\\wrr\\WRR230829TH01\\Week04\n",
      "moving from: WRR240101TT01 to: WRR240101TT01\n",
      "moving from: WRR240101XXXX to: WRR240101XXXX\n",
      "Copied: P:\\Temp\\Intern\\MillTixDataEntry\\WRR240101XXXX\\Week01\\Mayhaw 122-1 ST 8 WE 07.06.24 ALl_02.pdf to C:\\Users\\bbrown\\OneDrive - Green Assets\\Desktop\\tmp\\wrr\\WRR240101XXXX\\Week01\n",
      "Copied: P:\\Temp\\Intern\\MillTixDataEntry\\WRR240101XXXX\\Week02\\W3_Mayhaw Settlement WE 07.13.24.pdf to C:\\Users\\bbrown\\OneDrive - Green Assets\\Desktop\\tmp\\wrr\\WRR240101XXXX\\Week02\n",
      "Copied: P:\\Temp\\Intern\\MillTixDataEntry\\WRR240101XXXX\\Week03\\Mayhaw Settlement WE 07.20.24 (1)_01.pdf to C:\\Users\\bbrown\\OneDrive - Green Assets\\Desktop\\tmp\\wrr\\WRR240101XXXX\\Week03\n",
      "Copied: P:\\Temp\\Intern\\MillTixDataEntry\\WRR240101XXXX\\Week04\\M5_Updated Mayhaw Settlement WE 07.27.24_01.pdf to C:\\Users\\bbrown\\OneDrive - Green Assets\\Desktop\\tmp\\wrr\\WRR240101XXXX\\Week04\n",
      "Copied: P:\\Temp\\Intern\\MillTixDataEntry\\WRR240101XXXX\\Week05\\W8 Updated Mayhaw WE 08.17.24..pdf to C:\\Users\\bbrown\\OneDrive - Green Assets\\Desktop\\tmp\\wrr\\WRR240101XXXX\\Week05\n",
      "moving from: WRR240404TH02 to: WRR240404TH02\n",
      "Copied: P:\\Temp\\Intern\\MillTixDataEntry\\WRR240404TH02\\Week01\\Mayhaw Settlement WE 07.20.24 (1).pdf to C:\\Users\\bbrown\\OneDrive - Green Assets\\Desktop\\tmp\\wrr\\WRR240404TH02\\Week01\n",
      "Copied: P:\\Temp\\Intern\\MillTixDataEntry\\WRR240404TH02\\Week02\\M5_Updated Mayhaw Settlement WE 07.27.24.pdf to C:\\Users\\bbrown\\OneDrive - Green Assets\\Desktop\\tmp\\wrr\\WRR240404TH02\\Week02\n",
      "Copied: P:\\Temp\\Intern\\MillTixDataEntry\\WRR240404TH02\\Week03\\W7_Mayhaw Settlement WE 08.10.24.pdf to C:\\Users\\bbrown\\OneDrive - Green Assets\\Desktop\\tmp\\wrr\\WRR240404TH02\\Week03\n",
      "Copied: P:\\Temp\\Intern\\MillTixDataEntry\\WRR240404TH02\\Week04\\W8 Updated Mayhaw WE 08.17.24._2.pdf to C:\\Users\\bbrown\\OneDrive - Green Assets\\Desktop\\tmp\\wrr\\WRR240404TH02\\Week04\n",
      "Copied: P:\\Temp\\Intern\\MillTixDataEntry\\WRR240404TH02\\Week05\\W6_Updated_Mayhaw 122-1 ST 1 WE 08.03.24.1.pdf to C:\\Users\\bbrown\\OneDrive - Green Assets\\Desktop\\tmp\\wrr\\WRR240404TH02\\Week05\n",
      "moving from: WRR230829TH02 to: WRR230829TH02\n",
      "Copied: P:\\Temp\\Intern\\MillTixDataEntry\\WRR230829TH02\\Week01\\1Mayhaw Settlement WE 01.06.2024 wk 22.pdf to C:\\Users\\bbrown\\OneDrive - Green Assets\\Desktop\\tmp\\wrr\\WRR230829TH02\\Week01\n",
      "Copied: P:\\Temp\\Intern\\MillTixDataEntry\\WRR230829TH02\\Week02\\Updated Mayhaw Settlement WE 01.20.2024.pdf to C:\\Users\\bbrown\\OneDrive - Green Assets\\Desktop\\tmp\\wrr\\WRR230829TH02\\Week02\n",
      "Copied: P:\\Temp\\Intern\\MillTixDataEntry\\WRR230829TH02\\Week03\\Mayhaw Settlement WE 01.27.2024 wk 25.pdf to C:\\Users\\bbrown\\OneDrive - Green Assets\\Desktop\\tmp\\wrr\\WRR230829TH02\\Week03\n",
      "Copied: P:\\Temp\\Intern\\MillTixDataEntry\\WRR230829TH02\\Week04\\Mayhaw Settlement WE 01.13.2024.pdf to C:\\Users\\bbrown\\OneDrive - Green Assets\\Desktop\\tmp\\wrr\\WRR230829TH02\\Week04\n",
      "Copied: P:\\Temp\\Intern\\MillTixDataEntry\\WRR230829TH02\\Week04\\Updated Mayhaw 121-1 Stand 9 WE 01.13.2024.pdf to C:\\Users\\bbrown\\OneDrive - Green Assets\\Desktop\\tmp\\wrr\\WRR230829TH02\\Week04\n",
      "moving from: WRR231107CC02 to: WRR231107XXXX\n",
      "Copied: P:\\Temp\\Intern\\MillTixDataEntry\\WRR231107CC02\\Week01\\Mayhaw Settlement WE 12.02.2023 (2).pdf to C:\\Users\\bbrown\\OneDrive - Green Assets\\Desktop\\tmp\\wrr\\WRR231107XXXX\\Week01\n",
      "Copied: P:\\Temp\\Intern\\MillTixDataEntry\\WRR231107CC02\\Week02\\Mayhaw Settlement WE 12.09.2023 wk 18.pdf to C:\\Users\\bbrown\\OneDrive - Green Assets\\Desktop\\tmp\\wrr\\WRR231107XXXX\\Week02\n",
      "Copied: P:\\Temp\\Intern\\MillTixDataEntry\\WRR231107CC02\\Week03\\W19 Mayhaw 121-1 Stand 6 WE 12.16.2023.pdf to C:\\Users\\bbrown\\OneDrive - Green Assets\\Desktop\\tmp\\wrr\\WRR231107XXXX\\Week03\n",
      "Copied: P:\\Temp\\Intern\\MillTixDataEntry\\WRR231107CC02\\Week03\\W19 Mayhaw Settlement WE 12.16.2023.pdf to C:\\Users\\bbrown\\OneDrive - Green Assets\\Desktop\\tmp\\wrr\\WRR231107XXXX\\Week03\n",
      "Copied: P:\\Temp\\Intern\\MillTixDataEntry\\WRR231107CC02\\Week04\\Mayhaw Settlement WE 12.23.2023_v2.pdf to C:\\Users\\bbrown\\OneDrive - Green Assets\\Desktop\\tmp\\wrr\\WRR231107XXXX\\Week04\n",
      "Copied: P:\\Temp\\Intern\\MillTixDataEntry\\WRR231107CC02\\Week05\\Mayhaw Settlement WE 12.30.2023 wk 21.pdf to C:\\Users\\bbrown\\OneDrive - Green Assets\\Desktop\\tmp\\wrr\\WRR231107XXXX\\Week05\n",
      "Copied: P:\\Temp\\Intern\\MillTixDataEntry\\WRR231107CC02\\Week06\\Mayhaw Settlement WE 01.06.2024 wk 22_v2.pdf to C:\\Users\\bbrown\\OneDrive - Green Assets\\Desktop\\tmp\\wrr\\WRR231107XXXX\\Week06\n",
      "Copied: P:\\Temp\\Intern\\MillTixDataEntry\\WRR231107CC02\\Week06\\tix.pdf to C:\\Users\\bbrown\\OneDrive - Green Assets\\Desktop\\tmp\\wrr\\WRR231107XXXX\\Week06\n",
      "Copied: P:\\Temp\\Intern\\MillTixDataEntry\\WRR231107CC02\\Week07\\Mayhaw Settlement WE 03.02.24 (1).pdf to C:\\Users\\bbrown\\OneDrive - Green Assets\\Desktop\\tmp\\wrr\\WRR231107XXXX\\Week07\n",
      "Copied: P:\\Temp\\Intern\\MillTixDataEntry\\WRR231107CC02\\Week08\\W29 Mayhaw Settlement WE 03.09.24.pdf to C:\\Users\\bbrown\\OneDrive - Green Assets\\Desktop\\tmp\\wrr\\WRR231107XXXX\\Week08\n",
      "Copied: P:\\Temp\\Intern\\MillTixDataEntry\\WRR231107CC02\\Week08\\W29 Updated Mayhaw 121-1 Stand 6 Clearcut WE 03.09.24.pdf to C:\\Users\\bbrown\\OneDrive - Green Assets\\Desktop\\tmp\\wrr\\WRR231107XXXX\\Week08\n",
      "Copied: P:\\Temp\\Intern\\MillTixDataEntry\\WRR231107CC02\\Week08\\W29 Updated Mayhaw 121-1 Stand 6 Clearcut WE 03.09.24_Settlement_Combined.pdf to C:\\Users\\bbrown\\OneDrive - Green Assets\\Desktop\\tmp\\wrr\\WRR231107XXXX\\Week08\n",
      "Copied: P:\\Temp\\Intern\\MillTixDataEntry\\WRR231107CC02\\Week09\\Updated Mayhaw Settlement WE 06.22.24.pdf to C:\\Users\\bbrown\\OneDrive - Green Assets\\Desktop\\tmp\\wrr\\WRR231107XXXX\\Week09\n",
      "Copied: P:\\Temp\\Intern\\MillTixDataEntry\\WRR231107CC02\\Week10\\Updated Mayhaw Settlement WE 06.29.24_1.pdf to C:\\Users\\bbrown\\OneDrive - Green Assets\\Desktop\\tmp\\wrr\\WRR231107XXXX\\Week10\n",
      "Copied: P:\\Temp\\Intern\\MillTixDataEntry\\WRR231107CC02\\Week11\\Mayhaw 122-1 ST 8 WE 07.06.24 ALl.pdf to C:\\Users\\bbrown\\OneDrive - Green Assets\\Desktop\\tmp\\wrr\\WRR231107XXXX\\Week11\n",
      "passing WRR231107CC03\n"
     ]
    }
   ],
   "source": [
    "for id in list(set(old_tid_list)):\n",
    "    src_dir = fr\"P:\\Temp\\Intern\\MillTixDataEntry\\{id}\"\n",
    "    uids = wrr_df.loc[wrr_df['TicketID'] == id, 'UniqueID'].values\n",
    "    # Try and see if old ticketid has multiple new ticket ids\n",
    "    new_ticketid = list(set(new_tid_df.loc[new_tid_df['UniqueID'].isin(uids), 'TicketID'].values))\n",
    "    new_ticketid = new_ticketid[0]\n",
    "    if new_ticketid == \"WRR231107CC03\":\n",
    "        print(f\"passing {new_ticketid}\")\n",
    "        continue\n",
    "    print(f\"moving from: {id} to: {new_ticketid}\")\n",
    "    temp_dir = fr\"C:\\Users\\bbrown\\OneDrive - Green Assets\\Desktop\\tmp\\wrr\\{new_ticketid}\"\n",
    "\n",
    "    copy_pdfs_to_temp(src_dir, temp_dir)"
   ]
  },
  {
   "cell_type": "code",
   "execution_count": null,
   "metadata": {},
   "outputs": [],
   "source": []
  }
 ],
 "metadata": {
  "kernelspec": {
   "display_name": "postgres_python",
   "language": "python",
   "name": "python3"
  },
  "language_info": {
   "codemirror_mode": {
    "name": "ipython",
    "version": 3
   },
   "file_extension": ".py",
   "mimetype": "text/x-python",
   "name": "python",
   "nbconvert_exporter": "python",
   "pygments_lexer": "ipython3",
   "version": "3.11.6"
  }
 },
 "nbformat": 4,
 "nbformat_minor": 2
}
