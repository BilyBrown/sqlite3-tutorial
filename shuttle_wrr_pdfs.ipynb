{
 "cells": [
  {
   "cell_type": "code",
   "execution_count": 1,
   "metadata": {},
   "outputs": [],
   "source": [
    "import os\n",
    "import shutil\n",
    "import pandas as pd"
   ]
  },
  {
   "cell_type": "markdown",
   "metadata": {},
   "source": [
    "# Shuttle WRR In Process PDFs from \"old\" ticketid folder structure to \"new\" folder structure\n",
    "## 24.11.06\n",
    "## Steps:\n",
    "1. Associate old TIDs to New TIDs\n",
    "2. Locate folders/pdfs based on old TIDs\n",
    "3. Transfer folders/pdfs to new TIDs\n",
    "    - How to manage aggregation where it didn't exist before? (multiple week 1s for example)\n",
    "4. Upload to G-drive"
   ]
  },
  {
   "cell_type": "code",
   "execution_count": 3,
   "metadata": {},
   "outputs": [],
   "source": [
    "# Transfer function from the WAR project\n",
    "# WAR didn't have any new aggregations of activities already in process.\n",
    "# WRR does - so I expect to have issues of multiple week labels\n",
    "\n",
    "def copy_pdfs_to_temp(src_directory, temp_directory):\n",
    "    os.makedirs(temp_directory, exist_ok=True)\n",
    "    \n",
    "    for week_folder in os.listdir(src_directory):\n",
    "        week_path = os.path.join(src_directory, week_folder)\n",
    "        \n",
    "        if os.path.isdir(week_path) and week_folder.startswith(\"Week\"):\n",
    "            new_week_path = os.path.join(temp_directory, week_folder)\n",
    "            os.makedirs(new_week_path)\n",
    "            \n",
    "            for file_name in os.listdir(week_path):\n",
    "                if file_name.lower().endswith(\"pdf\"):\n",
    "                    file_path = os.path.join(week_path, file_name)\n",
    "                    shutil.copy(file_path, new_week_path)\n",
    "                    print(f\"Copied: {file_path} to {new_week_path}\")"
   ]
  },
  {
   "cell_type": "code",
   "execution_count": null,
   "metadata": {},
   "outputs": [],
   "source": []
  }
 ],
 "metadata": {
  "kernelspec": {
   "display_name": "postgres_python",
   "language": "python",
   "name": "python3"
  },
  "language_info": {
   "codemirror_mode": {
    "name": "ipython",
    "version": 3
   },
   "file_extension": ".py",
   "mimetype": "text/x-python",
   "name": "python",
   "nbconvert_exporter": "python",
   "pygments_lexer": "ipython3",
   "version": "3.11.6"
  }
 },
 "nbformat": 4,
 "nbformat_minor": 2
}
