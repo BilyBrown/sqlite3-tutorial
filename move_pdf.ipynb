{
 "cells": [
  {
   "cell_type": "code",
   "execution_count": 1,
   "metadata": {},
   "outputs": [],
   "source": [
    "import os\n",
    "import shutil"
   ]
  },
  {
   "cell_type": "code",
   "execution_count": 7,
   "metadata": {},
   "outputs": [],
   "source": [
    "src_dir = r\"P:\\Temp\\Intern\\MillTixDataEntry\\WAR230113TD04\"\n",
    "temp_dir = r\"C:\\Users\\bbrown\\OneDrive - Green Assets\\Desktop\\tmp\""
   ]
  },
  {
   "cell_type": "code",
   "execution_count": 5,
   "metadata": {},
   "outputs": [],
   "source": [
    "def copy_pdfs_to_temp(src_directory, temp_directory):\n",
    "    os.makedirs(temp_directory, exist_ok=True)\n",
    "    \n",
    "    for week_folder in os.listdir(src_directory):\n",
    "        week_path = os.path.join(src_directory, week_folder)\n",
    "        \n",
    "        if os.path.isdir(week_path) and week_folder.startswith(\"Week\"):\n",
    "            new_week_path = os.path.join(temp_directory, week_folder)\n",
    "            os.makedirs(new_week_path)\n",
    "            \n",
    "            for file_name in os.listdir(week_path):\n",
    "                if file_name.lower().endswith(\"pdf\"):\n",
    "                    file_path = os.path.join(week_path, file_name)\n",
    "                    shutil.copy(file_path, new_week_path)\n",
    "                    print(f\"Copied: {file_path} to {new_week_path}\")"
   ]
  },
  {
   "cell_type": "code",
   "execution_count": null,
   "metadata": {},
   "outputs": [],
   "source": [
    "copy_pdfs_to_temp(src_dir, temp_dir)"
   ]
  },
  {
   "cell_type": "code",
   "execution_count": 12,
   "metadata": {},
   "outputs": [],
   "source": [
    "import pandas as pd\n",
    "ticket_df = pd.read_excel(r\"C:\\Users\\bbrown\\Documents\\python_scripts\\db-build-trial\\new-to-oldtids.xlsx\",sheet_name='TICKETIDTransfer')\n",
    "ticket_list = ticket_df['Ticketid'].unique().tolist()"
   ]
  },
  {
   "cell_type": "code",
   "execution_count": null,
   "metadata": {},
   "outputs": [],
   "source": [
    "ticket_list"
   ]
  },
  {
   "cell_type": "code",
   "execution_count": null,
   "metadata": {},
   "outputs": [],
   "source": [
    "for id in ticket_list:\n",
    "    src_dir = fr\"P:\\Temp\\Intern\\MillTixDataEntry\\{id}\"\n",
    "    temp_dir = fr\"C:\\Users\\bbrown\\OneDrive - Green Assets\\Desktop\\tmp\\{id}\"\n",
    "    copy_pdfs_to_temp(src_dir, temp_dir)"
   ]
  },
  {
   "cell_type": "code",
   "execution_count": null,
   "metadata": {},
   "outputs": [],
   "source": []
  }
 ],
 "metadata": {
  "kernelspec": {
   "display_name": "postgres_python",
   "language": "python",
   "name": "python3"
  },
  "language_info": {
   "codemirror_mode": {
    "name": "ipython",
    "version": 3
   },
   "file_extension": ".py",
   "mimetype": "text/x-python",
   "name": "python",
   "nbconvert_exporter": "python",
   "pygments_lexer": "ipython3",
   "version": "3.11.6"
  }
 },
 "nbformat": 4,
 "nbformat_minor": 2
}
